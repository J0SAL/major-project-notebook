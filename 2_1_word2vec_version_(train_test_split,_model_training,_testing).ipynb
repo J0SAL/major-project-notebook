{
  "cells": [
    {
      "cell_type": "markdown",
      "metadata": {
        "id": "view-in-github",
        "colab_type": "text"
      },
      "source": [
        "<a href=\"https://colab.research.google.com/github/J0SAL/major-project-notebook/blob/main/2_1_word2vec_version_(train_test_split%2C_model_training%2C_testing).ipynb\" target=\"_parent\"><img src=\"https://colab.research.google.com/assets/colab-badge.svg\" alt=\"Open In Colab\"/></a>"
      ]
    },
    {
      "cell_type": "markdown",
      "metadata": {
        "id": "g55INj36kQa4"
      },
      "source": [
        "## News Sentiment Analysis using RNN LSTM\n",
        "\n",
        "Dataset: https://www.kaggle.com/datasets/harshrkh/india-financial-news-headlines-sentiments?select=News_sentiment_Jan2017_to_Apr2021.csv\n",
        "\n",
        "\n",
        "### References: \n",
        "1. Youtube: https://youtu.be/2EiA_TA2NJo\n",
        "2. Kaggle Notebook: https://www.kaggle.com/code/rajmehra03/a-complete-text-classfication-guide-word2vec-lstm\n",
        "\n"
      ]
    },
    {
      "cell_type": "code",
      "execution_count": 2,
      "metadata": {
        "id": "-8UBfF4K5ici"
      },
      "outputs": [],
      "source": [
        "# from google.colab import drive\n",
        "# drive.mount('/content/drive')"
      ]
    },
    {
      "cell_type": "code",
      "execution_count": 3,
      "metadata": {
        "id": "s_Hrmau7kQbA"
      },
      "outputs": [],
      "source": [
        "from tensorflow.keras.layers import Embedding\n",
        "from tensorflow.keras.models import Sequential\n",
        "from tensorflow.keras.preprocessing.text import one_hot\n",
        "from tensorflow.keras.layers import LSTM\n",
        "from tensorflow.keras.layers import Dense\n",
        "from tensorflow.keras.layers import SimpleRNN\n",
        "from tensorflow.keras.layers import Dropout\n",
        "from tensorflow.keras.layers import GRU\n",
        "from tensorflow.keras.layers import Bidirectional\n",
        "from tensorflow.keras.layers import Flatten\n",
        "\n",
        "from tensorflow.keras.preprocessing.sequence import pad_sequences\n",
        "from tensorflow.keras.preprocessing.text import Tokenizer\n",
        "\n",
        "from tensorflow.keras.initializers import Constant\n",
        "from sklearn.naive_bayes import MultinomialNB\n",
        "from sklearn import svm"
      ]
    },
    {
      "cell_type": "code",
      "execution_count": 4,
      "metadata": {
        "id": "eMKo8YWgkQa7"
      },
      "outputs": [],
      "source": [
        "import pandas as pd\n",
        "import matplotlib.pyplot as plt\n",
        "import seaborn as sns\n",
        "from sklearn.metrics import confusion_matrix\n",
        "from sklearn.metrics import accuracy_score\n",
        "from sklearn.metrics import classification_report\n",
        "import pickle\n",
        "import gensim\n",
        "import numpy as np"
      ]
    },
    {
      "cell_type": "code",
      "execution_count": 5,
      "metadata": {
        "id": "K3ORpn-jxlkn",
        "colab": {
          "base_uri": "https://localhost:8080/",
          "height": 1000
        },
        "outputId": "1f86bcc4-80de-4db9-dd53-5f827769924b"
      },
      "outputs": [
        {
          "output_type": "stream",
          "name": "stdout",
          "text": [
            "Looking in indexes: https://pypi.org/simple, https://us-python.pkg.dev/colab-wheels/public/simple/\n",
            "Requirement already satisfied: tensorflow==2.9.* in /usr/local/lib/python3.8/dist-packages (2.9.2)\n",
            "Collecting tensorflow==2.9.*\n",
            "  Downloading tensorflow-2.9.3-cp38-cp38-manylinux_2_17_x86_64.manylinux2014_x86_64.whl (511.8 MB)\n",
            "\u001b[2K     \u001b[90m━━━━━━━━━━━━━━━━━━━━━━━━━━━━━━━━━━━━━━━\u001b[0m \u001b[32m511.8/511.8 MB\u001b[0m \u001b[31m3.3 MB/s\u001b[0m eta \u001b[36m0:00:00\u001b[0m\n",
            "\u001b[?25hRequirement already satisfied: libclang>=13.0.0 in /usr/local/lib/python3.8/dist-packages (from tensorflow==2.9.*) (15.0.6.1)\n",
            "Requirement already satisfied: keras<2.10.0,>=2.9.0rc0 in /usr/local/lib/python3.8/dist-packages (from tensorflow==2.9.*) (2.9.0)\n",
            "Requirement already satisfied: tensorboard<2.10,>=2.9 in /usr/local/lib/python3.8/dist-packages (from tensorflow==2.9.*) (2.9.1)\n",
            "Requirement already satisfied: numpy>=1.20 in /usr/local/lib/python3.8/dist-packages (from tensorflow==2.9.*) (1.21.6)\n",
            "Requirement already satisfied: flatbuffers<2,>=1.12 in /usr/local/lib/python3.8/dist-packages (from tensorflow==2.9.*) (1.12)\n",
            "Requirement already satisfied: absl-py>=1.0.0 in /usr/local/lib/python3.8/dist-packages (from tensorflow==2.9.*) (1.3.0)\n",
            "Requirement already satisfied: packaging in /usr/local/lib/python3.8/dist-packages (from tensorflow==2.9.*) (21.3)\n",
            "Requirement already satisfied: six>=1.12.0 in /usr/local/lib/python3.8/dist-packages (from tensorflow==2.9.*) (1.15.0)\n",
            "Requirement already satisfied: termcolor>=1.1.0 in /usr/local/lib/python3.8/dist-packages (from tensorflow==2.9.*) (2.2.0)\n",
            "Requirement already satisfied: typing-extensions>=3.6.6 in /usr/local/lib/python3.8/dist-packages (from tensorflow==2.9.*) (4.4.0)\n",
            "Requirement already satisfied: h5py>=2.9.0 in /usr/local/lib/python3.8/dist-packages (from tensorflow==2.9.*) (3.1.0)\n",
            "Requirement already satisfied: gast<=0.4.0,>=0.2.1 in /usr/local/lib/python3.8/dist-packages (from tensorflow==2.9.*) (0.4.0)\n",
            "Requirement already satisfied: keras-preprocessing>=1.1.1 in /usr/local/lib/python3.8/dist-packages (from tensorflow==2.9.*) (1.1.2)\n",
            "Requirement already satisfied: google-pasta>=0.1.1 in /usr/local/lib/python3.8/dist-packages (from tensorflow==2.9.*) (0.2.0)\n",
            "Requirement already satisfied: tensorflow-estimator<2.10.0,>=2.9.0rc0 in /usr/local/lib/python3.8/dist-packages (from tensorflow==2.9.*) (2.9.0)\n",
            "Requirement already satisfied: opt-einsum>=2.3.2 in /usr/local/lib/python3.8/dist-packages (from tensorflow==2.9.*) (3.3.0)\n",
            "Requirement already satisfied: astunparse>=1.6.0 in /usr/local/lib/python3.8/dist-packages (from tensorflow==2.9.*) (1.6.3)\n",
            "Requirement already satisfied: grpcio<2.0,>=1.24.3 in /usr/local/lib/python3.8/dist-packages (from tensorflow==2.9.*) (1.51.1)\n",
            "Requirement already satisfied: wrapt>=1.11.0 in /usr/local/lib/python3.8/dist-packages (from tensorflow==2.9.*) (1.14.1)\n",
            "Requirement already satisfied: tensorflow-io-gcs-filesystem>=0.23.1 in /usr/local/lib/python3.8/dist-packages (from tensorflow==2.9.*) (0.29.0)\n",
            "Requirement already satisfied: protobuf<3.20,>=3.9.2 in /usr/local/lib/python3.8/dist-packages (from tensorflow==2.9.*) (3.19.6)\n",
            "Requirement already satisfied: setuptools in /usr/local/lib/python3.8/dist-packages (from tensorflow==2.9.*) (57.4.0)\n",
            "Requirement already satisfied: wheel<1.0,>=0.23.0 in /usr/local/lib/python3.8/dist-packages (from astunparse>=1.6.0->tensorflow==2.9.*) (0.38.4)\n",
            "Requirement already satisfied: google-auth-oauthlib<0.5,>=0.4.1 in /usr/local/lib/python3.8/dist-packages (from tensorboard<2.10,>=2.9->tensorflow==2.9.*) (0.4.6)\n",
            "Requirement already satisfied: requests<3,>=2.21.0 in /usr/local/lib/python3.8/dist-packages (from tensorboard<2.10,>=2.9->tensorflow==2.9.*) (2.25.1)\n",
            "Requirement already satisfied: tensorboard-plugin-wit>=1.6.0 in /usr/local/lib/python3.8/dist-packages (from tensorboard<2.10,>=2.9->tensorflow==2.9.*) (1.8.1)\n",
            "Requirement already satisfied: werkzeug>=1.0.1 in /usr/local/lib/python3.8/dist-packages (from tensorboard<2.10,>=2.9->tensorflow==2.9.*) (1.0.1)\n",
            "Requirement already satisfied: tensorboard-data-server<0.7.0,>=0.6.0 in /usr/local/lib/python3.8/dist-packages (from tensorboard<2.10,>=2.9->tensorflow==2.9.*) (0.6.1)\n",
            "Requirement already satisfied: markdown>=2.6.8 in /usr/local/lib/python3.8/dist-packages (from tensorboard<2.10,>=2.9->tensorflow==2.9.*) (3.4.1)\n",
            "Requirement already satisfied: google-auth<3,>=1.6.3 in /usr/local/lib/python3.8/dist-packages (from tensorboard<2.10,>=2.9->tensorflow==2.9.*) (2.16.0)\n",
            "Requirement already satisfied: pyparsing!=3.0.5,>=2.0.2 in /usr/local/lib/python3.8/dist-packages (from packaging->tensorflow==2.9.*) (3.0.9)\n",
            "Requirement already satisfied: rsa<5,>=3.1.4 in /usr/local/lib/python3.8/dist-packages (from google-auth<3,>=1.6.3->tensorboard<2.10,>=2.9->tensorflow==2.9.*) (4.9)\n",
            "Requirement already satisfied: pyasn1-modules>=0.2.1 in /usr/local/lib/python3.8/dist-packages (from google-auth<3,>=1.6.3->tensorboard<2.10,>=2.9->tensorflow==2.9.*) (0.2.8)\n",
            "Requirement already satisfied: cachetools<6.0,>=2.0.0 in /usr/local/lib/python3.8/dist-packages (from google-auth<3,>=1.6.3->tensorboard<2.10,>=2.9->tensorflow==2.9.*) (5.2.1)\n",
            "Requirement already satisfied: requests-oauthlib>=0.7.0 in /usr/local/lib/python3.8/dist-packages (from google-auth-oauthlib<0.5,>=0.4.1->tensorboard<2.10,>=2.9->tensorflow==2.9.*) (1.3.1)\n",
            "Requirement already satisfied: importlib-metadata>=4.4 in /usr/local/lib/python3.8/dist-packages (from markdown>=2.6.8->tensorboard<2.10,>=2.9->tensorflow==2.9.*) (6.0.0)\n",
            "Requirement already satisfied: certifi>=2017.4.17 in /usr/local/lib/python3.8/dist-packages (from requests<3,>=2.21.0->tensorboard<2.10,>=2.9->tensorflow==2.9.*) (2022.12.7)\n",
            "Requirement already satisfied: urllib3<1.27,>=1.21.1 in /usr/local/lib/python3.8/dist-packages (from requests<3,>=2.21.0->tensorboard<2.10,>=2.9->tensorflow==2.9.*) (1.24.3)\n",
            "Requirement already satisfied: chardet<5,>=3.0.2 in /usr/local/lib/python3.8/dist-packages (from requests<3,>=2.21.0->tensorboard<2.10,>=2.9->tensorflow==2.9.*) (4.0.0)\n",
            "Requirement already satisfied: idna<3,>=2.5 in /usr/local/lib/python3.8/dist-packages (from requests<3,>=2.21.0->tensorboard<2.10,>=2.9->tensorflow==2.9.*) (2.10)\n",
            "Requirement already satisfied: zipp>=0.5 in /usr/local/lib/python3.8/dist-packages (from importlib-metadata>=4.4->markdown>=2.6.8->tensorboard<2.10,>=2.9->tensorflow==2.9.*) (3.11.0)\n",
            "Requirement already satisfied: pyasn1<0.5.0,>=0.4.6 in /usr/local/lib/python3.8/dist-packages (from pyasn1-modules>=0.2.1->google-auth<3,>=1.6.3->tensorboard<2.10,>=2.9->tensorflow==2.9.*) (0.4.8)\n",
            "Requirement already satisfied: oauthlib>=3.0.0 in /usr/local/lib/python3.8/dist-packages (from requests-oauthlib>=0.7.0->google-auth-oauthlib<0.5,>=0.4.1->tensorboard<2.10,>=2.9->tensorflow==2.9.*) (3.2.2)\n",
            "Installing collected packages: tensorflow\n",
            "  Attempting uninstall: tensorflow\n",
            "    Found existing installation: tensorflow 2.9.2\n",
            "    Uninstalling tensorflow-2.9.2:\n",
            "      Successfully uninstalled tensorflow-2.9.2\n",
            "Successfully installed tensorflow-2.9.3\n"
          ]
        },
        {
          "output_type": "display_data",
          "data": {
            "application/vnd.colab-display-data+json": {
              "pip_warning": {
                "packages": [
                  "tensorflow"
                ]
              }
            }
          },
          "metadata": {}
        },
        {
          "output_type": "stream",
          "name": "stdout",
          "text": [
            "Looking in indexes: https://pypi.org/simple, https://us-python.pkg.dev/colab-wheels/public/simple/\n",
            "Collecting tensorflow-text==2.9.*\n",
            "  Downloading tensorflow_text-2.9.0-cp38-cp38-manylinux_2_17_x86_64.manylinux2014_x86_64.whl (4.6 MB)\n",
            "\u001b[2K     \u001b[90m━━━━━━━━━━━━━━━━━━━━━━━━━━━━━━━━━━━━━━━━\u001b[0m \u001b[32m4.6/4.6 MB\u001b[0m \u001b[31m89.5 MB/s\u001b[0m eta \u001b[36m0:00:00\u001b[0m\n",
            "\u001b[?25hRequirement already satisfied: tensorflow<2.10,>=2.9.0 in /usr/local/lib/python3.8/dist-packages (from tensorflow-text==2.9.*) (2.9.3)\n",
            "Requirement already satisfied: tensorflow-hub>=0.8.0 in /usr/local/lib/python3.8/dist-packages (from tensorflow-text==2.9.*) (0.12.0)\n",
            "Requirement already satisfied: termcolor>=1.1.0 in /usr/local/lib/python3.8/dist-packages (from tensorflow<2.10,>=2.9.0->tensorflow-text==2.9.*) (2.2.0)\n",
            "Requirement already satisfied: flatbuffers<2,>=1.12 in /usr/local/lib/python3.8/dist-packages (from tensorflow<2.10,>=2.9.0->tensorflow-text==2.9.*) (1.12)\n",
            "Requirement already satisfied: opt-einsum>=2.3.2 in /usr/local/lib/python3.8/dist-packages (from tensorflow<2.10,>=2.9.0->tensorflow-text==2.9.*) (3.3.0)\n",
            "Requirement already satisfied: packaging in /usr/local/lib/python3.8/dist-packages (from tensorflow<2.10,>=2.9.0->tensorflow-text==2.9.*) (21.3)\n",
            "Requirement already satisfied: gast<=0.4.0,>=0.2.1 in /usr/local/lib/python3.8/dist-packages (from tensorflow<2.10,>=2.9.0->tensorflow-text==2.9.*) (0.4.0)\n",
            "Requirement already satisfied: tensorflow-estimator<2.10.0,>=2.9.0rc0 in /usr/local/lib/python3.8/dist-packages (from tensorflow<2.10,>=2.9.0->tensorflow-text==2.9.*) (2.9.0)\n",
            "Requirement already satisfied: typing-extensions>=3.6.6 in /usr/local/lib/python3.8/dist-packages (from tensorflow<2.10,>=2.9.0->tensorflow-text==2.9.*) (4.4.0)\n",
            "Requirement already satisfied: h5py>=2.9.0 in /usr/local/lib/python3.8/dist-packages (from tensorflow<2.10,>=2.9.0->tensorflow-text==2.9.*) (3.1.0)\n",
            "Requirement already satisfied: wrapt>=1.11.0 in /usr/local/lib/python3.8/dist-packages (from tensorflow<2.10,>=2.9.0->tensorflow-text==2.9.*) (1.14.1)\n",
            "Requirement already satisfied: astunparse>=1.6.0 in /usr/local/lib/python3.8/dist-packages (from tensorflow<2.10,>=2.9.0->tensorflow-text==2.9.*) (1.6.3)\n",
            "Requirement already satisfied: keras<2.10.0,>=2.9.0rc0 in /usr/local/lib/python3.8/dist-packages (from tensorflow<2.10,>=2.9.0->tensorflow-text==2.9.*) (2.9.0)\n",
            "Requirement already satisfied: six>=1.12.0 in /usr/local/lib/python3.8/dist-packages (from tensorflow<2.10,>=2.9.0->tensorflow-text==2.9.*) (1.15.0)\n",
            "Requirement already satisfied: tensorboard<2.10,>=2.9 in /usr/local/lib/python3.8/dist-packages (from tensorflow<2.10,>=2.9.0->tensorflow-text==2.9.*) (2.9.1)\n",
            "Requirement already satisfied: keras-preprocessing>=1.1.1 in /usr/local/lib/python3.8/dist-packages (from tensorflow<2.10,>=2.9.0->tensorflow-text==2.9.*) (1.1.2)\n",
            "Requirement already satisfied: absl-py>=1.0.0 in /usr/local/lib/python3.8/dist-packages (from tensorflow<2.10,>=2.9.0->tensorflow-text==2.9.*) (1.3.0)\n",
            "Requirement already satisfied: tensorflow-io-gcs-filesystem>=0.23.1 in /usr/local/lib/python3.8/dist-packages (from tensorflow<2.10,>=2.9.0->tensorflow-text==2.9.*) (0.29.0)\n",
            "Requirement already satisfied: google-pasta>=0.1.1 in /usr/local/lib/python3.8/dist-packages (from tensorflow<2.10,>=2.9.0->tensorflow-text==2.9.*) (0.2.0)\n",
            "Requirement already satisfied: setuptools in /usr/local/lib/python3.8/dist-packages (from tensorflow<2.10,>=2.9.0->tensorflow-text==2.9.*) (57.4.0)\n",
            "Requirement already satisfied: grpcio<2.0,>=1.24.3 in /usr/local/lib/python3.8/dist-packages (from tensorflow<2.10,>=2.9.0->tensorflow-text==2.9.*) (1.51.1)\n",
            "Requirement already satisfied: numpy>=1.20 in /usr/local/lib/python3.8/dist-packages (from tensorflow<2.10,>=2.9.0->tensorflow-text==2.9.*) (1.21.6)\n",
            "Requirement already satisfied: libclang>=13.0.0 in /usr/local/lib/python3.8/dist-packages (from tensorflow<2.10,>=2.9.0->tensorflow-text==2.9.*) (15.0.6.1)\n",
            "Requirement already satisfied: protobuf<3.20,>=3.9.2 in /usr/local/lib/python3.8/dist-packages (from tensorflow<2.10,>=2.9.0->tensorflow-text==2.9.*) (3.19.6)\n",
            "Requirement already satisfied: wheel<1.0,>=0.23.0 in /usr/local/lib/python3.8/dist-packages (from astunparse>=1.6.0->tensorflow<2.10,>=2.9.0->tensorflow-text==2.9.*) (0.38.4)\n",
            "Requirement already satisfied: requests<3,>=2.21.0 in /usr/local/lib/python3.8/dist-packages (from tensorboard<2.10,>=2.9->tensorflow<2.10,>=2.9.0->tensorflow-text==2.9.*) (2.25.1)\n",
            "Requirement already satisfied: google-auth-oauthlib<0.5,>=0.4.1 in /usr/local/lib/python3.8/dist-packages (from tensorboard<2.10,>=2.9->tensorflow<2.10,>=2.9.0->tensorflow-text==2.9.*) (0.4.6)\n",
            "Requirement already satisfied: markdown>=2.6.8 in /usr/local/lib/python3.8/dist-packages (from tensorboard<2.10,>=2.9->tensorflow<2.10,>=2.9.0->tensorflow-text==2.9.*) (3.4.1)\n",
            "Requirement already satisfied: tensorboard-data-server<0.7.0,>=0.6.0 in /usr/local/lib/python3.8/dist-packages (from tensorboard<2.10,>=2.9->tensorflow<2.10,>=2.9.0->tensorflow-text==2.9.*) (0.6.1)\n",
            "Requirement already satisfied: tensorboard-plugin-wit>=1.6.0 in /usr/local/lib/python3.8/dist-packages (from tensorboard<2.10,>=2.9->tensorflow<2.10,>=2.9.0->tensorflow-text==2.9.*) (1.8.1)\n",
            "Requirement already satisfied: google-auth<3,>=1.6.3 in /usr/local/lib/python3.8/dist-packages (from tensorboard<2.10,>=2.9->tensorflow<2.10,>=2.9.0->tensorflow-text==2.9.*) (2.16.0)\n",
            "Requirement already satisfied: werkzeug>=1.0.1 in /usr/local/lib/python3.8/dist-packages (from tensorboard<2.10,>=2.9->tensorflow<2.10,>=2.9.0->tensorflow-text==2.9.*) (1.0.1)\n",
            "Requirement already satisfied: pyparsing!=3.0.5,>=2.0.2 in /usr/local/lib/python3.8/dist-packages (from packaging->tensorflow<2.10,>=2.9.0->tensorflow-text==2.9.*) (3.0.9)\n",
            "Requirement already satisfied: pyasn1-modules>=0.2.1 in /usr/local/lib/python3.8/dist-packages (from google-auth<3,>=1.6.3->tensorboard<2.10,>=2.9->tensorflow<2.10,>=2.9.0->tensorflow-text==2.9.*) (0.2.8)\n",
            "Requirement already satisfied: cachetools<6.0,>=2.0.0 in /usr/local/lib/python3.8/dist-packages (from google-auth<3,>=1.6.3->tensorboard<2.10,>=2.9->tensorflow<2.10,>=2.9.0->tensorflow-text==2.9.*) (5.2.1)\n",
            "Requirement already satisfied: rsa<5,>=3.1.4 in /usr/local/lib/python3.8/dist-packages (from google-auth<3,>=1.6.3->tensorboard<2.10,>=2.9->tensorflow<2.10,>=2.9.0->tensorflow-text==2.9.*) (4.9)\n",
            "Requirement already satisfied: requests-oauthlib>=0.7.0 in /usr/local/lib/python3.8/dist-packages (from google-auth-oauthlib<0.5,>=0.4.1->tensorboard<2.10,>=2.9->tensorflow<2.10,>=2.9.0->tensorflow-text==2.9.*) (1.3.1)\n",
            "Requirement already satisfied: importlib-metadata>=4.4 in /usr/local/lib/python3.8/dist-packages (from markdown>=2.6.8->tensorboard<2.10,>=2.9->tensorflow<2.10,>=2.9.0->tensorflow-text==2.9.*) (6.0.0)\n",
            "Requirement already satisfied: certifi>=2017.4.17 in /usr/local/lib/python3.8/dist-packages (from requests<3,>=2.21.0->tensorboard<2.10,>=2.9->tensorflow<2.10,>=2.9.0->tensorflow-text==2.9.*) (2022.12.7)\n",
            "Requirement already satisfied: urllib3<1.27,>=1.21.1 in /usr/local/lib/python3.8/dist-packages (from requests<3,>=2.21.0->tensorboard<2.10,>=2.9->tensorflow<2.10,>=2.9.0->tensorflow-text==2.9.*) (1.24.3)\n",
            "Requirement already satisfied: chardet<5,>=3.0.2 in /usr/local/lib/python3.8/dist-packages (from requests<3,>=2.21.0->tensorboard<2.10,>=2.9->tensorflow<2.10,>=2.9.0->tensorflow-text==2.9.*) (4.0.0)\n",
            "Requirement already satisfied: idna<3,>=2.5 in /usr/local/lib/python3.8/dist-packages (from requests<3,>=2.21.0->tensorboard<2.10,>=2.9->tensorflow<2.10,>=2.9.0->tensorflow-text==2.9.*) (2.10)\n",
            "Requirement already satisfied: zipp>=0.5 in /usr/local/lib/python3.8/dist-packages (from importlib-metadata>=4.4->markdown>=2.6.8->tensorboard<2.10,>=2.9->tensorflow<2.10,>=2.9.0->tensorflow-text==2.9.*) (3.11.0)\n",
            "Requirement already satisfied: pyasn1<0.5.0,>=0.4.6 in /usr/local/lib/python3.8/dist-packages (from pyasn1-modules>=0.2.1->google-auth<3,>=1.6.3->tensorboard<2.10,>=2.9->tensorflow<2.10,>=2.9.0->tensorflow-text==2.9.*) (0.4.8)\n",
            "Requirement already satisfied: oauthlib>=3.0.0 in /usr/local/lib/python3.8/dist-packages (from requests-oauthlib>=0.7.0->google-auth-oauthlib<0.5,>=0.4.1->tensorboard<2.10,>=2.9->tensorflow<2.10,>=2.9.0->tensorflow-text==2.9.*) (3.2.2)\n",
            "Installing collected packages: tensorflow-text\n",
            "Successfully installed tensorflow-text-2.9.0\n"
          ]
        }
      ],
      "source": [
        "!pip install -U \"tensorflow==2.9.*\"\n",
        "!pip install -U \"tensorflow-text==2.9.*\""
      ]
    },
    {
      "cell_type": "code",
      "execution_count": 6,
      "metadata": {
        "id": "wu0OKMEDkQa_"
      },
      "outputs": [],
      "source": [
        "import tensorflow as tf\n",
        "import tensorflow_hub as hub\n",
        "import tensorflow_text as text"
      ]
    },
    {
      "cell_type": "code",
      "execution_count": 7,
      "metadata": {
        "colab": {
          "base_uri": "https://localhost:8080/",
          "height": 36
        },
        "id": "0hclyo2LkQbA",
        "outputId": "2f0f1198-9465-4178-b6ec-25f12a1b3c69"
      },
      "outputs": [
        {
          "output_type": "execute_result",
          "data": {
            "text/plain": [
              "'2.9.2'"
            ],
            "application/vnd.google.colaboratory.intrinsic+json": {
              "type": "string"
            }
          },
          "metadata": {},
          "execution_count": 7
        }
      ],
      "source": [
        "tf.__version__"
      ]
    },
    {
      "cell_type": "code",
      "execution_count": 8,
      "metadata": {
        "id": "iSkB8tbkkQbA"
      },
      "outputs": [],
      "source": [
        "### Vocabulary size => unique words (so every can get unique index)\n",
        "VOC_SIZE=40000\n",
        "### vector size for each word\n",
        "EMBED_DIM=300\n",
        "### same length  for all the sentences\n",
        "SENT_LEN=40\n",
        "\n",
        "EPOCHS = 20\n",
        "BATCH_SIZE = 100\n",
        "TEST_SIZE = 0.3"
      ]
    },
    {
      "cell_type": "code",
      "source": [
        "BASE_DIR = \"/content/drive/MyDrive/Colab Notebooks/\"\n",
        "DATA_DIR = BASE_DIR+'datasets/'\n",
        "MODEL_DIR = BASE_DIR+'trained_models/'"
      ],
      "metadata": {
        "id": "IfTn33ugA1ke"
      },
      "execution_count": 9,
      "outputs": []
    },
    {
      "cell_type": "markdown",
      "source": [
        "# Fetching Preprocessed Data"
      ],
      "metadata": {
        "id": "nFmIxNw-NrmJ"
      }
    },
    {
      "cell_type": "code",
      "source": [
        "with open(MODEL_DIR+'corpus.pkl', 'rb') as f:\n",
        "    corpus = pickle.load(f)\n",
        "with open(MODEL_DIR+'y.pkl', 'rb') as f:\n",
        "    y = pickle.load(f)"
      ],
      "metadata": {
        "id": "ENIqvnUOLtMT"
      },
      "execution_count": 10,
      "outputs": []
    },
    {
      "cell_type": "code",
      "execution_count": 11,
      "metadata": {
        "id": "aictGGpskQbC",
        "colab": {
          "base_uri": "https://localhost:8080/"
        },
        "outputId": "8dc1e5db-de2d-446f-bdd8-eec51b6bb0c2"
      },
      "outputs": [
        {
          "output_type": "execute_result",
          "data": {
            "text/plain": [
              "['eliminating shadow economy positive impact gdp arun jaitley',\n",
              " 'two chinese company hit roadblock indian investment',\n",
              " 'softbank india vision get new',\n",
              " 'nissan halt joint development luxury car daimler source',\n",
              " 'despite challenge rajasthan continues progress vasundhara raje',\n",
              " 'india question composition un panel draft sdg report',\n",
              " 'wall st flat bank discretionary stock fall tech rise',\n",
              " 'stock specific pharma auto not convinced sudip bandyopadhyay inditrade capital',\n",
              " 'cautious pharma time get mahantesh sabarad sbi cap security',\n",
              " 'rupee gain ground end paisa higher',\n",
              " 'regulator sebi issue guideline evaluate company board',\n",
              " 'budget session second phase likely march april',\n",
              " 'mapping market many psu stock hit',\n",
              " 'amazon see per cent growth seller base',\n",
              " 'despite sharekhan acqusition bnp paribas hold stake geojit',\n",
              " 'tata motor castrol ink three',\n",
              " 'note ban may temporarily slowdown economy president pranab mukherjee',\n",
              " 'people complying tax regime incentivised pankaj r patel ficci president',\n",
              " 'demonetisation positive impact gdp long run arun jaitley',\n",
              " 'ifc invests million hero future energy',\n",
              " 'india better placed amidst fragile world economy financial stability development council',\n",
              " 'reserve bank unlikely cut key rate february sbi research',\n",
              " 'toyota honda say immediate plan curb mexico production',\n",
              " 'invest right space reap plus return vivek mahajan',\n",
              " 'china justifies stand masood azhar denies double standard',\n",
              " 'china service sector activity rise',\n",
              " 'synergise effort boost export commerce industry minister nirmala sitharaman state',\n",
              " 'two stock make money medium long term siddharth sedani anand rathi',\n",
              " 'note ban disruptive policy innovation since subbarao',\n",
              " 'rbi estimate demonetised note back bank may incorrect',\n",
              " 'cue f market call writing strike price will limit upside',\n",
              " 'asian stock rise th day pmis yuan soar ahead inauguration',\n",
              " 'go long rupee avoid noise pm modi cash ban advises credit suisse',\n",
              " 'oil dip doubt touted production cut',\n",
              " 'prashant jain feel stock will deliver high double',\n",
              " 'china offshore yuan rise sharply near',\n",
              " 'people moving unorganised lending side towards formal credit harshil mehta dhfl',\n",
              " 'australia share end higher third consecutive session nz flat',\n",
              " 'rupee will depreciate much le em currency aditi nayar',\n",
              " 'ensure transparent decision making bank vinod rai',\n",
              " 'multiple uncertainty slowing car market hyundai',\n",
              " 'hong kong stock solid rise fed minute commodity',\n",
              " 'sundar pichai back campus year',\n",
              " 'global coffee consumption coffee segment growing challa srishant ccl product',\n",
              " 'commodity wrap copper rise nickel mentha oil edge',\n",
              " 'chart make believe india em readying rally month',\n",
              " 'et classroom goal based investing using mutual fund',\n",
              " 'big corporates retail borrower benefit rate cut',\n",
              " 'removal restriction cash withdrawal assessment rbi fm jaitley',\n",
              " 'bank metal epc revive next two year prashant jain',\n",
              " 'double digit return equity may option prashant jain',\n",
              " 'ce seven gadget expect india soon',\n",
              " 'post demonetisation rental demand may rise',\n",
              " 'consumer comfort towards concluding sale online increased anuj mathur canara hsbc life insurance',\n",
              " 'want run faster market many high',\n",
              " 'gold silver trade higher weak dollar expert bullish',\n",
              " 'solid reason believe indian equity market will deliver better calendar',\n",
              " 'chance earn bank fixed deposit',\n",
              " 'fed minute show faster pace rate hike chance faster gdp growth',\n",
              " 'big jump company losing credit rating',\n",
              " 'make best goal',\n",
              " 'biocon little room slip strong',\n",
              " 'continue invest cement private bank nischal maheshwari',\n",
              " 'fourteen stock focus thursday january',\n",
              " 'view fallout india cash crunch starting',\n",
              " 'seven top cue changed thing dalal street sleeping',\n",
              " 'sensex nifty live today',\n",
              " 'key market trigger watch opening bell',\n",
              " 'need know six macro trigger market may watch today',\n",
              " 'sona group promoter pick mahindra stake jv r crore',\n",
              " 'arun jaitley budget seen make break narendra modi government',\n",
              " 'finance ministry sends joint secretary coordinate rbi cash operation',\n",
              " 'novelis tap asian bank refinance billion term loan',\n",
              " 'donald trump name wall street lawyer jay clayton sec chairman',\n",
              " 'upi payment work india will work everywhere sundar pichai ceo google',\n",
              " 'supermarket grocerie bigbasket clock',\n",
              " 'google ceo sundar pichai brush away fear global protectionism call demonetisation bold move',\n",
              " 'cash crunch stifle service sector december',\n",
              " 'economy poised good growth quarter ahead industry captain',\n",
              " 'tech mahindra creates saudi arabian joint venture al fozan group',\n",
              " 'shop hurt endangered specie',\n",
              " 'arun jaitley hope resolve dual control issue next gst council meet',\n",
              " 'sun pharma announces positive result phase study eye care drug',\n",
              " 'bpcl could raise billion next week',\n",
              " 'tax department sign three advance pricing pact taxpayer',\n",
              " 'indian deposit note banned curb graft report',\n",
              " 'bond strategy top global trader backing trump may weigh',\n",
              " 'ecl finance muthoot finance raise r crore via ncds',\n",
              " 'sail post sale growth apr',\n",
              " 'registered fpis run ifsc ops without prior approval sebi',\n",
              " 'ready invest via flexi sip mutual fund',\n",
              " 'aum indian mutual fund industry may touch r lakh cr',\n",
              " 'connect yogic principle investor psychology',\n",
              " 'tech view tread cautiously nifty form spinning top level key bull',\n",
              " 'mapping market smallcaps outperform sensex airline fly high',\n",
              " 'intensifying smb push google launch digital unlocked india',\n",
              " 'tailor product indian need ravi shankar prasad google',\n",
              " 'not great pick long term deepak shenoy',\n",
              " 'india want google play meaningful role help cyber security ravi shankar prasad',\n",
              " 'sensex nifty end flat choppy trade airtel rally wipro ril',\n",
              " 'need return top tech investor',\n",
              " 'centre asks state not levy charge e',\n",
              " 'budget election trump set tune market move pankaj tibrewal kotak mutual fund',\n",
              " 'modi war cash push indian eco contraction hanke',\n",
              " 'cm face bjp will difficult time poll r jagannathan',\n",
              " 'private dairy adopt small format parlour model eyeing better margin',\n",
              " 'euro zone business growth fastest five year december pmi',\n",
              " 'lodha group launch startup investment fund realty smart city technology',\n",
              " 'state election begin next month will test pm modi',\n",
              " 'kotak mahindra amc launch flex sip stp',\n",
              " 'view bjp loss would surprise election',\n",
              " 'poll panel announced acid test modi',\n",
              " 'bjp will difficult time poll not cm face project r jagannathan',\n",
              " 'industry will show good growth rate but may not bullish last month bharat madan escort',\n",
              " 'outperform va tech wabag target r credit suisse',\n",
              " 'federal reserve tightening eas stimulus pressure globally raghuram rajan',\n",
              " 'company garner r crore via ncds fy',\n",
              " 'pmi plunge add evidence demonetisation hurting growth',\n",
              " 'china stock end higher sentiment improves liquidity fear ease',\n",
              " 'domestic investor driving market last month karan bhagat',\n",
              " 'sundar pichai india visit google help indian smbs go digital',\n",
              " 'strong dollar lift japan share toward',\n",
              " 'dear zindagi multiplex dangal',\n",
              " 'earlier gst implemented better country adi godrej godrej industry',\n",
              " 'gold price steady dollar hold near',\n",
              " 'live sensex nifty start positive note tata motor top gainer',\n",
              " 'view black money cannot glibly wished away',\n",
              " 'oil price edge tighter supply outlook but strong dollar weighs',\n",
              " 'consortium chinese company buy stake pak bourse',\n",
              " 'role technology improving power generation efficiency india',\n",
              " 'expect india grow next year marc faber',\n",
              " 'india service activity shrink second month december currency shortage',\n",
              " 'commodity wrap copper lead rise nickel zoom aluminium flat',\n",
              " 'giving lot focus core business increasing capital efficiency jha power grid',\n",
              " 'five top stock pick outside nifty',\n",
              " 'abraaj frontrunner buy medall healthcare',\n",
              " 'rupee may weaken but indian stock adjust upside marc faber',\n",
              " 'expect bps rate cut next quarter rahul goswami icici pru mf',\n",
              " 'r discount online payment lpg cylinder',\n",
              " 'track sensex nifty live sensex nifty start positive note tata motor top gainer',\n",
              " 'india world third assembler iphones',\n",
              " 'eight chart explain happening market right',\n",
              " 'fifteen stock focus wednesday january',\n",
              " 'six top cue changed thing dalal street sleeping',\n",
              " 'outlook despite uncertainty foreign brokerage positive india',\n",
              " 'lse sell french arm lch euronext million',\n",
              " 'u construction spending hit highest level year',\n",
              " 'argentine declare bn tax amnesty',\n",
              " 'kia changan beiqi foton daihatsu car maker knocking india door',\n",
              " 'b bank b brittle will bank board bureau able transform ailing psbs',\n",
              " 'half dozen carmaker waiting india gate',\n",
              " 'isl clocked total viewership million star india',\n",
              " 'turkish lira new record low inflation security concern',\n",
              " 'gtpl hathway file draft prospectus sebi float ipo',\n",
              " 'oil business seen strong position donald trump tackle tax reform',\n",
              " 'sundar pichai announce key initiative indian smbs tomorrow',\n",
              " 'mutual fund investor worry forecast',\n",
              " 'buy sector growth reasonable price anand tandon',\n",
              " 'could make break year govt expert say',\n",
              " 'lot growth waiting happen lcv ravi pisharody tata motor',\n",
              " 'uk manufacturing growth unexpectedly hit',\n",
              " 'next fiscal growth make extant economy slow niti aayog',\n",
              " 'sensex nifty end marginally higher airtel fall powergrid gain',\n",
              " 'priority keep food inflation check ram vila paswan',\n",
              " 'india bond yield fall near one',\n",
              " 'munich open reinsurance branch office mumbai',\n",
              " 'eight strategy manage money help get rich faster',\n",
              " 'not exit debt mutual fund',\n",
              " 'american sceptical trump ability handle duty',\n",
              " 'iron steel lead revival engineering export',\n",
              " 'fantasy land deposit fuel indian loan boom',\n",
              " 'need clear rule stop harassment taxman panagariya',\n",
              " 'pm modi step extremely positive economy assocham',\n",
              " 'hudco file draft paper sebi ipo',\n",
              " 'china stock start firmer aided stronger factory growth',\n",
              " 'demonetisation derail cement sector growth say india rating',\n",
              " 'aiims become cashless mobikwik',\n",
              " 'view year could see advent credible national challenger modi',\n",
              " 'mega trend event look',\n",
              " 'central budget ccpa recommends holding budget session january',\n",
              " 'will prefer pharma ridham desai morgan stanley',\n",
              " 'israel food fusion flavour happiness',\n",
              " 'union budget expect return indian equity populist union budget spoil ridham desai',\n",
              " 'etf globally gather record cash',\n",
              " 'asia stock edge positive start dollar resume climb',\n",
              " 'dollar hold ground upbeat china factory activity lift aussie',\n",
              " 'gold trade flat early trade silver surge nearly',\n",
              " 'five reason invest el year',\n",
              " 'sensex start cautious note nifty struggle around',\n",
              " 'surprise cut government borrowing extends india bond rally',\n",
              " 'crossroad msmes feel demonetisation squeeze',\n",
              " 'gold start positive note edge despite firm dollar',\n",
              " 'china manufacturing accelerates fastest year survey',\n",
              " 'not runaway bull market return low ridham desai morgan stanley',\n",
              " 'oil price rise market eye opec non',\n",
              " 'government plan borrow le market',\n",
              " 'rupee open nearly paisa dollar',\n",
              " 'chana dal price peak local stock get exhausted import delayed',\n",
              " 'u disappoints bit not bad investing em geoff dennis ubs',\n",
              " 'stagnant gold price may spark fresh demand',\n",
              " 'bank fall rate war fear but volume likely provide comfort',\n",
              " 'buy sell idea expert tuesday january',\n",
              " 'realty stock fire hope demand boost',\n",
              " 'startup focus strong fundamental',\n",
              " 'sensex nifty live today',\n",
              " 'need know seven macro trigger may matter market today',\n",
              " 'fifteen stock focus tuesday january',\n",
              " 'nobel laureate gujarat interaction bring fdi india k vijay raghavan',\n",
              " 'auto inc may see many speed breaker',\n",
              " 'digital drive new role look',\n",
              " 'slowdown new investment post demonetisation cmie',\n",
              " 'internet industry based metro diversified across sector find cohesive voice',\n",
              " 'nine nobel prize winner indian science r foreign investment',\n",
              " 'apac saw slower pace deal india bright spot',\n",
              " 'technical analysis premium mailer premium stock market trading mailer make money grow trading skill',\n",
              " 'new currency circulation likely reach feb end sbi',\n",
              " 'fm may section c limit r r lakh year',\n",
              " 'lypsa gem gain order win r cr uae',\n",
              " 'german regulator clear wockhardt ankleshwar plant',\n",
              " 'synergise effort boost export nirmala sitharaman state',\n",
              " 'nifty end sensex gain pt tata motor',\n",
              " 'govt may set fiscal deficit target budget expert',\n",
              " 'sensex rise pt nifty strong tc infosys drag',\n",
              " 'china say hit record retaliatory trade measure',\n",
              " 'sensex nifty may stay flat fy gdp estimate eyed',\n",
              " 'china offshore yuan surge dollar year',\n",
              " 'ncdex announces commencement trading castor seed future',\n",
              " 'scuttled ford plant mexico fearing trump',\n",
              " 'asian stock edge higher wall street cue oil',\n",
              " 'tech mahindra launch majority owned jv saudi arabia',\n",
              " 'addressing concern raised usfda ankleshwar unit wockhardt',\n",
              " 'airtel africa name rajeev sethi chief commercial officer',\n",
              " 'company garner r cr via ncds current fiscal',\n",
              " 'japan pm keep economy highest priority',\n",
              " 'sensex nifty volatile bharat fin jubilant life active',\n",
              " 'sensex nifty open flat tata motor infosys l early gainer',\n",
              " 'japan dec manufacturing activity expands fastest pace yr',\n",
              " 'watch three asian country',\n",
              " 'mexico regret ford decision scrap new plant',\n",
              " 'sensex end rangebound session higher midcap outperforms',\n",
              " 'buy solar industry target r kr choksey',\n",
              " 'home loan rate cut sop immediate cheer but revive sector',\n",
              " 'european market open higher positive data',\n",
              " 'sensex nifty choppy itc coal india axis bank',\n",
              " 'singapore q gdp beat forecast manufacturing rebound',\n",
              " 'sensex nifty likely flat infosys auto focus',\n",
              " 'india solar market expected grow',\n",
              " 'china steel rebar start upbeat note smog descends',\n",
              " 'asia stock see subdued start dollar resume climb',\n",
              " 'policy change attract nris indian realty',\n",
              " 'china economy could grow devaluation may stabilize yuan',\n",
              " 'china dec factory activity rise near',\n",
              " 'iran certifies international company bid oil gas project',\n",
              " 'established brand gain post demonetisation gst godrej',\n",
              " 'sebi revise guideline written',\n",
              " 'recent coking coal price rise put pressure sail operation',\n",
              " 'topline growth india inc seen',\n",
              " 'sensex nifty end st day lower midcap smallcap shine',\n",
              " 'rural demand respite visible yet bajaj auto',\n",
              " 'nifty sensex flat bank drag post rate cut',\n",
              " 'cash ban hit capex nearly wiped kharif gain cmie',\n",
              " 'tata autocomp completes acquisition titanx',\n",
              " 'growth china factory service slows dec official pmi',\n",
              " 'sensex nifty continue struggle bhel maruti rise',\n",
              " 'nifty sensex fall pt sbi hdfc',\n",
              " 'asset quality bank deteriorated fsr report',\n",
              " 'sebi put investor financial literacy forefront',\n",
              " 'lack investment new tech may crimp tc growth',\n",
              " 'monnet ispat lender restart stake sale process',\n",
              " 'health system leapfrogging india need possibility',\n",
              " 'government set overhaul public spending',\n",
              " 'world bank ifc invests million hero group renewable energy unit',\n",
              " 'demonetisation long will effect modi shock therapy linger',\n",
              " 'carat handle standard chartered bank medium duty',\n",
              " 'go chasing black money',\n",
              " 'emerging market credit risk concern',\n",
              " 'public sector bank government soon finalise nd tranche capital infusion',\n",
              " 'understand basic investing',\n",
              " 'sebi issue guideline evaluate company board',\n",
              " 'nvidia offer new pc gaming service hosted cloud',\n",
              " 'tech will change',\n",
              " 'demonetisation may lead temporary slowdown pranab mukherjee',\n",
              " 'note ban disruptive policy innovation since subbarao',\n",
              " 'demonetisation hit cement sale revive june ambuja cement',\n",
              " 'gold price maintain uptrend hit one',\n",
              " 'demonetisation govt eye growth first half',\n",
              " 'iata urge government defer hike airport charge',\n",
              " 'bnp paribas continue holding stake geojit unit even sharekhan buy',\n",
              " 'ce lg make world slimmest tv lot phone',\n",
              " 'opening bell asian market open mixed fortis healthcare sbi sun pharma news',\n",
              " 'despite cash ban indian rupee remains safe bet forex market credit suisse',\n",
              " 'mutual fund record highest growth year r trillion added kitty',\n",
              " 'ipo dream run ended india',\n",
              " 'modi cash crunch deadline but pain begun',\n",
              " 'pulse selling support price market report',\n",
              " 'policy risk come fore sugar price firm',\n",
              " 'rupee open higher u dollar',\n",
              " 'microsoft attempting reshape personal computing',\n",
              " 'push ease business help economy regain lost ground ficci president',\n",
              " 'deleveraging risk emerging market',\n",
              " 'focus education',\n",
              " 'look like promising year',\n",
              " 'singh brother talk kkr fortis sale',\n",
              " 'advance gdp estimate may not account effect demonetisation',\n",
              " 'sbi end po transaction fee small merchant',\n",
              " 'examining india foreign policy choice',\n",
              " 'bull named trump shop called china',\n",
              " 'transforming digital payment infrastructure',\n",
              " 'lodha developer float maiden fund start',\n",
              " 'tech mahindra launch majority owned joint venture saudi arabia',\n",
              " 'china go trillion commodity binge shortage seen',\n",
              " 'tencent warburg lead million funding china mobike',\n",
              " 'investment banking fee fall dragged equity raising',\n",
              " 'tackling income tax exemption equity agriculture',\n",
              " 'borrower long will good time last',\n",
              " 'equity rule roost indian bond rally run steam',\n",
              " 'insurer paid billion natural disaster',\n",
              " 'one winner one loser ofer brother lottery worth billion',\n",
              " 'google sundar pichai unveils digital unlocked indian small business',\n",
              " 'huawei launch honor x new mid',\n",
              " 'cash crunch lead biggest drop private sector activity since october',\n",
              " 'global gold price rise three',\n",
              " 'tencent share losing billion show depth china economic gloom',\n",
              " 'fed tightening eas stimulus pressure globally raghuram rajan',\n",
              " 'global market start firm footing',\n",
              " 'obituary globalization premature',\n",
              " 'rural auto sale derail note ban urban market hold',\n",
              " 'rupee trade marginally higher u dollar',\n",
              " 'oil price edge expectation planned supply cut',\n",
              " 'alibaba counterfeit woe wont stop time soon',\n",
              " 'new year start warning',\n",
              " 'opening bell asian market open mixed bse hdfc bharti airtel news',\n",
              " 'treebo hotel talk vc fund raise million',\n",
              " 'oil marketing firm plan introduce dynamic pricing retail outlet year',\n",
              " 'rewriting rule political engagement',\n",
              " 'new insolvency regime nclt ring early warning',\n",
              " 'fiscal policy age inflation target',\n",
              " 'sachet pouch packaging semiotic value',\n",
              " 'reclaiming india leverage tibet',\n",
              " 'truck sale set shift gear bharat stage iv norm horizon',\n",
              " 'manufacturing u expands fastest pace two year',\n",
              " 'anna hazare seek cbi probe maharashtra co',\n",
              " 'invest wisely even dont need regular income retirement',\n",
              " 'biggest economy face trillion bond tab bull run fade',\n",
              " 'dollar oil surge trading start earnest',\n",
              " 'donald trump nominates robert lighthizer u trade representative pick',\n",
              " 'google sundar pichai announce key initiative indian smbs wednesday',\n",
              " 'dollar winter real chill could china currency',\n",
              " 'bse get sebi clearance ipo',\n",
              " 'twitter china chief kathy chen quits eight month',\n",
              " 'bond yield lowered govt borrowing programme interest rate cut',\n",
              " 'thank tiny bug hungry chinese pig agriculture winner',\n",
              " 'gold price start positive note edge despite firm dollar',\n",
              " 'u dollar retreat new year rally',\n",
              " 'political update bjp shiv sena seek action asaduddin owaisi',\n",
              " 'rupee open higher u dollar asian cue',\n",
              " 'solar could beat coal cheapest power earth',\n",
              " 'anshu jain join cantor president post',\n",
              " 'opening bell asian market open higher sbi hero moto hathway cable news',\n",
              " 'much demonetisation affected stock market',\n",
              " 'brewery plan sober fewer product launch',\n",
              " 'iron ore export revive firm global price protectionist step',\n",
              " 'hathway cable unit gtpl hathway file paper r crore ipo',\n",
              " 'purgatory preferable hell',\n",
              " 'modi speech much ado little',\n",
              " 'demonetisation take toll investment manufacturing',\n",
              " 'narendra modi man would purify india',\n",
              " 'azim premji tell wipro staff raised obstacle path better world',\n",
              " 'gold price slip first session',\n",
              " 'sbi see loan growth jumping',\n",
              " 'linking investment behaviour idea',\n",
              " 'china flag first good train united kingdom will reach london day',\n",
              " 'govt extends export sop onion till march',\n",
              " 'apple partner wistron seek expand india smartphone part plant official',\n",
              " 'cash crunch push factory activity contraction december',\n",
              " 'budget provide push growth demonetisation shock',\n",
              " 'narendra modi address public rally lucknow today',\n",
              " 'hyundai kia aim grow sale mn vehicle globally',\n",
              " 'opening bell asia open mixed sbi infosys maruti news',\n",
              " 'influx deposit will raise bank lending lower cost capital say arun jaitley',\n",
              " 'sebi seek review algo trading guideline',\n",
              " 'policy known unknown',\n",
              " 'gap india share world gdp world market cap highest year',\n",
              " 'petrol price hiked r per litre diesel paisa litre',\n",
              " 'india corruption will mantra',\n",
              " 'market life demonetisation',\n",
              " 'brings thing make u feel cleaner',\n",
              " 'money investment avenue',\n",
              " 'deal time deploy dry powder',\n",
              " 'donald trump twitter age brings chaos risk reviving gold haven',\n",
              " 'arvind kejriwal demand white paper demonetisation',\n",
              " 'need money zimbabwe sell elephant china',\n",
              " 'india reluctant give special tax incentive apple',\n",
              " 'amazon see growth seller base',\n",
              " 'demonetisation govt see growth q next fiscal',\n",
              " 'dont speculate could also counting error rbi deposit old note',\n",
              " 'note ban feature republic day parade',\n",
              " 'rbi may disappoint unlikely cut key rate feb say report',\n",
              " 'fed policymakers agree donald trump fiscal boost pose inflation risk',\n",
              " 'sensex rise point near',\n",
              " 'note ban disruptive policy innovation since former rbi guv',\n",
              " 'opposition object budget date election commission',\n",
              " 'sensex cross pt nifty hold adani port gain',\n",
              " 'indian cow get unique aadhar',\n",
              " 'asian stock rise eighth day strong pmis wall street gain',\n",
              " 'sensex climb pt nifty reclaims',\n",
              " 'google unveils training programme small medium business',\n",
              " 'indian market waning momentum theme shift growth value',\n",
              " 'freight train china reach london day',\n",
              " 'r crore black money converted gold probe underway',\n",
              " 'gst risk state claim r crore loss post note ban demand tax high sea sale',\n",
              " 'reeling r crore operational loss railway may hike fare budget',\n",
              " 'sensex rise upbeat global economic data',\n",
              " 'mutual fund add r lakh crore kitty',\n",
              " 'aiims team mobikwik cashless payment',\n",
              " 'oil company offer discount lpg cylinder booking paying online',\n",
              " 'sensex rebound positive infra data gst meet focus',\n",
              " 'sensex recoups pt positive infra data',\n",
              " 'bse share sale receives sebi nod may fetch r crore',\n",
              " 'demonetisation effect bank aim boost credit growth sharp rate cut',\n",
              " 'stock watch',\n",
              " 'gold begin steady note silver weakens',\n",
              " 'cashless economy help insurance business news',\n",
              " 'union budget arun jaitley advise bank seeking fund infusion think box',\n",
              " 'caterpillar train pod taxi fight traffic congestion',\n",
              " 'sensex fall point bank stock pm narendra modi speech',\n",
              " 'state bank india cut lending rate per cent',\n",
              " 'need know save tax',\n",
              " 'prime minister narendra modi currency crackdown severely hurt factory output',\n",
              " 'petronet sign pact set mn lng project bangladesh',\n",
              " 'modi cash ban brings pain but corruption',\n",
              " 'u designates osama bin laden son specially designated global terrorist',\n",
              " 'demonetisation will not trace corrupt money french nobel laureate jean tirole',\n",
              " 'u challenging india solar policy sent message world american trade representative',\n",
              " 'iata asks india defer higher air navigation charge airport',\n",
              " 'president pranab mukherjee shown demonetisation truth pm narendra modi randeep singh surjewala',\n",
              " 'prakash javadekar asks youth part government digital economy initiative',\n",
              " 'punjab election congress set win arvind kejriwal aap come nd say opinion poll',\n",
              " 'take extra care lessen suffering poor post note ban pranab mukherjee',\n",
              " 'narendra modi mustnt accept opposition demand postpone budget',\n",
              " 'delhi car bus banned connaught place month plan implemented february',\n",
              " 'demonetisation might temporarily slow economy president pranab mukherjee',\n",
              " 'live breaking news headline update police arrest four accused bengaluru girl molestation case',\n",
              " 'msf new mall supply expected cushman wakefield',\n",
              " 'market soar favourable domestic cue supportive global market',\n",
              " 'mahindra asset management company launch new scheme focus smaller town',\n",
              " 'note ban disruptive policy innovation since subbarao',\n",
              " 'china alibaba sue vendor selling counterfeit',\n",
              " 'united opposition beware modi',\n",
              " 'black money r lakh crore demonetised note back bank rbi scramble clear air',\n",
              " 'foreign reinsurers get irdai nod open branch india',\n",
              " 'kia picanto officially unveiled india launch expected',\n",
              " 'big u push bharat forge will ensure higher growth edelweiss',\n",
              " 'cotton rate firm cotton corporation india intervention',\n",
              " 'sebi crack cost go popular p',\n",
              " 'central board direct tax sign three advance pricing agreement reach total',\n",
              " 'demonetisation india need turn le',\n",
              " 'google eye india mn msmes sundar pichai unveils digital unlocked primer business initiative',\n",
              " 'big demonetisation blow narendra modi government almost r r note deposited bank',\n",
              " 'annual ce showcase faraday future car launch',\n",
              " 'scuttled ford plant mexico fearing donald trump',\n",
              " 'federal reserve policymakers agree donald trump fiscal boost pose inflation risk',\n",
              " 'google offer digital sop india launch free digital training free website indian smbs',\n",
              " 'tata trust google india partner mobikwik encourage adoption digital wallet',\n",
              " 'india seen explosive growth digital payment post demonetisation google vp',\n",
              " 'modi versus rest bjp pull miracle assembly election',\n",
              " 'metal market see uptrend',\n",
              " 'accorhotels partner humane society international source free',\n",
              " 'market end flat absence major trigger stock',\n",
              " 'modi war cash pushed indian economy contraction say american economist steve hanke',\n",
              " 'indian mutual fund industry soon touch r lakh crore',\n",
              " 'digitised benefit invite lavish tax saving employee',\n",
              " 'sundar pichai india google helping digital india campaign',\n",
              " 'will budget presented february election commission review state poll mind',\n",
              " 'p chidambaram demonetisation rbi speechless will walk will follow seem modi govt diktat central bank',\n",
              " 'demonetisation take toll service sector december pmi contract nd month row',\n",
              " 'market rise favourable global cue sensex rise pt',\n",
              " 'sensex build gain strong global cue',\n",
              " 'toshiba hit fresh profit padding allegation',\n",
              " 'india cant subservient china need tackled donald trump way',\n",
              " 'hdfc yes bank three others cut lending rate',\n",
              " 'steel fertiliser sector sake natural gas must brought gst',\n",
              " 'budget mat relief sez unit likely',\n",
              " 'build smart city help policymakers',\n",
              " 'budget income tax incentive likely offset demonetisation pain',\n",
              " 'donald trump slim north korea option diplomacy sanction force',\n",
              " 'ford cancel plan build new mexican plant add u job',\n",
              " 'general motor hit back donald trump say chevrolet cruzes u',\n",
              " 'wall street open big gain bank surge',\n",
              " 'centre decides conduct safety audit mine wake jharkhand coal mine cave',\n",
              " 'market close positive territory tracking mixed domestic cue',\n",
              " 'gain r lakh cr account demonetisation could make break year modi government say expert',\n",
              " 'budget economic survey will presented know',\n",
              " 'union budget allow private airport operator raise fund via tax free infrastructure bond say ficci',\n",
              " 'google ceo sundar pichai host tech event india tomorrow expect',\n",
              " 'aiims go digital join hand mobikwik cashless payment',\n",
              " 'bse get green light sebi launch ipo',\n",
              " 'indonesia penalises jpmorgan chase co rating bond underweight',\n",
              " 'apple chinese new year promo make beat headphone free',\n",
              " 'populist budget may scare market but difficult gauge impact ridham desai morgan stanley',\n",
              " 'market trading mixed note tracking global cue',\n",
              " 'demonetisation inflation bet fixed income',\n",
              " 'oil price rise market eye opec non',\n",
              " 'gold buy dip build desired portfolio allocation',\n",
              " 'steel industry india face cheap import threat near future govt support critical',\n",
              " 'time right sbi customer move mclr base rate',\n",
              " 'icici bank others take sbi cue slash mclrs',\n",
              " 'demonetisation upi ussd key le',\n",
              " 'volkswagen india production record unit',\n",
              " 'budget economic revival depends critically hike spend infrastructure',\n",
              " 'demonetisation will put end black money say narendra singh tomar',\n",
              " 'bimstec need power tool time green energy revolution',\n",
              " 'investor brace shock surprise run',\n",
              " 'demonetisation done without knowing ground reality anil kumar sharma',\n",
              " 'protesting low price farmer distribute free veggie chhattisgarh',\n",
              " 'raised obstacle path better world azim premji',\n",
              " 'established brand gain post demonetisation gst godrej sunil kataria',\n",
              " 'budget reduce income tax corporate tax boost consumption',\n",
              " 'china flag first good train london',\n",
              " 'market settle flat amid volatility expert see trading opportunity individual stock',\n",
              " 'recent coking coal price rise put pressure sail ops',\n",
              " 'lending rate cut boost economy push consumption industry',\n",
              " 'see normalcy banking system february',\n",
              " 'samsung hyundai motor see growing uncertainty',\n",
              " 'tech savvy india will adapt digital payment enabled aadhaar card will help say ravi shankar prasad',\n",
              " 'private equity pull record billion solid show',\n",
              " 'government extends export sop onion till march',\n",
              " 'five way prospective homebuyers will benefit new year',\n",
              " 'budget dont expect tax relief dont expect anything negative market say rakesh jhunjhunwala',\n",
              " 'narendra modi rally lucknow will pm reap demonetisation sp coup benefit poll',\n",
              " 'hyundai motor say aim sell mln vehicle globally',\n",
              " 'demonetisation cashless economy take shape mobile phone will drive transition',\n",
              " 'simplifying work key trend will shape face hr',\n",
              " 'cyber security digital economy need secure network',\n",
              " 'impact demonetisation income effect move negligible',\n",
              " 'digital literacy content creation time reboot knowledge economy',\n",
              " 'narendra modi prod bank cut lending rate home auto loan set get cheaper',\n",
              " 'cost demonetisation outweigh gain check stats',\n",
              " 'demonetisation gst le cash digital economy wa transformational shift',\n",
              " 'company will tweak strategy grow revenue new digital technology',\n",
              " 'prosecuted drunken driving new year eve',\n",
              " 'amit shah welcome lowering interest rate bank',\n",
              " 'nda govt dedicated welfare poor rajnath singh',\n",
              " 'rbi action changed fortune indian rupee',\n",
              " 'sbi punjab national bank cut lending rate bps',\n",
              " 'increase gas usage needed better future dharmendra pradhan',\n",
              " 'fuel efficient diesel car india',\n",
              " 'north korea leader kim jong un hint long',\n",
              " 'petronet sign pact set million lng project bangladesh',\n",
              " 'gionee firm manufacturing plan post demonetisation',\n",
              " 'china manufacturing growth slows december',\n",
              " 'india economy trumped britain',\n",
              " 'pm narendra modi rebuke sbi make first move cut lending rate bps across maturity',\n",
              " 'budget demonetisation pave way cut corporate tax say cii',\n",
              " 'demonetisation relief today withdraw r atm',\n",
              " 'gst demonetisation far reaching impact say rbi governor urjit patel',\n",
              " 'fpis exit mode rd month pull bn december',\n",
              " 'country economy will path growth year well arun jaitley',\n",
              " 'market outlook domestic global macro data hold key stock week',\n",
              " 'u hacking power grid state',\n",
              " 'grand old party congress see mandate undo barack obama agenda',\n",
              " 'will happy new year',\n",
              " 'google turn focus india small business amid search user',\n",
              " 'senator join force legislation punish russia',\n",
              " 'edf upbeat india renewable energy plan',\n",
              " 'housing mirage reality mortgage company',\n",
              " 'world bank pares india growth forecast fy',\n",
              " 'next warren buffett six step',\n",
              " 'rbi doesnt decide anything decision taken modi amartya sen',\n",
              " 'omniactive health acquires per cent stake indfrag',\n",
              " 'demonetisation atrociously planned executed nyt',\n",
              " 'positive effect demonetisation unlikely strong long lasting fitch',\n",
              " 'rbi sell billion november calm rupee',\n",
              " 'power transmission look like interesting sector mayuresh joshi angel broking',\n",
              " 'jinping open wef davos meet india attend',\n",
              " 'niit tech appoints joel lindsey global head digital service',\n",
              " 'citibank launch voice password india',\n",
              " 'pm modi hard sell india global investor vibrant gujarat summit',\n",
              " 'rupee pares early gain dollar still end paisa',\n",
              " 'india social sector spending inadequate global standard hsbc',\n",
              " 'naive india tilt towards u china',\n",
              " 'rbi say demonetisation wa modi government idea deepens secrecy around move',\n",
              " 'obama selects indian american scientist presidential award',\n",
              " 'mapping market metal stock shine firm copper prises indusind bank beat st',\n",
              " 'sensex close point higher nifty settle',\n",
              " 'mercedes benz sale decline',\n",
              " 'nfo review idbi midcap fund',\n",
              " 'auto industry pin hope budget boost consumer sentiment',\n",
              " 'growth story agriculture intact even post demonitisation niti aayog',\n",
              " 'union contest bank board bureau chief vinod rai proposal performance linked pay',\n",
              " 'trinamool congress mp continue sit',\n",
              " 'pm narendra modi meet global leader ahead vibrant gujarat summit',\n",
              " 'note ban sbi chief arundhati bhattacharya say situation will normalise february',\n",
              " 'citi maintains sept sensex target k stock bet',\n",
              " 'anand mahindra say electric car will drive ride',\n",
              " 'china stock step back rally reform hope limit loss',\n",
              " 'looking gdp growth year next year indranil sengupta',\n",
              " 'will soon resolve issue handicraft exporter government',\n",
              " 'rbi go bps rate cut citigroup',\n",
              " 'japan takeda acquire u cancer drugmaker bn',\n",
              " 'play three theme make money next year jyotivardhan jaipuria veda investment',\n",
              " 'paytm india killed r note startup hustled',\n",
              " 'tea stock perk but expert remain cautious',\n",
              " 'q rupee top forecaster see resilience trump trade',\n",
              " 'building one biggest refinery world nigeria sanjay gupta engineer india ltd',\n",
              " 'india need guard technological disruption manufacturing',\n",
              " 'continental hospital founder try stall right issue ihh',\n",
              " 'diesel andrea rosso three word dynamic curious natural',\n",
              " 'gold trade flat lacklustre trade watch key support r',\n",
              " 'acre naukri hit demonetisation hitesh oberoi',\n",
              " 'india want budget job job focus farm sector',\n",
              " 'india exciting but challenging time rbi deputy governor viral acharya',\n",
              " 'dow may not matter really',\n",
              " 'view donald trump america builder',\n",
              " 'oil recovers previous loss but doubt supply cut linger',\n",
              " 'china december producer price accelerate fastest pace year',\n",
              " 'top stock weathered demonetisation kunj bansal',\n",
              " 'name responsible system breach sebi tell nse',\n",
              " 'budget high expectation tax relief',\n",
              " 'mahindra mf eye r cr aum year rural focus',\n",
              " 'india killed r note startup hustled',\n",
              " 'eric rosengren call gradual but faster rate hike fed',\n",
              " 'buy sell idea expert tuesday january',\n",
              " 'will bet india country world john chamber cisco',\n",
              " 'look moving market today',\n",
              " 'pain trumpland hurt boarder market',\n",
              " 'eleven stock focus tuesday january',\n",
              " 'sbi waif card transaction fee small business',\n",
              " 'wed want put money work india david hunt prudential global investment',\n",
              " 'promise attract discerning investor ipo party',\n",
              " 'will india among top nation science output',\n",
              " 'sonalika maker look take tractor global',\n",
              " 'mamata banerjee continues inaugurate state',\n",
              " 'mcdonald sell china operation bn',\n",
              " 'arvind kejriwal accept money remark goa ceo send report ec',\n",
              " 'niit launch big data training centre guiyang city china',\n",
              " 'maheshwari logistics sme ipo garner r',\n",
              " 'govt tell ioc hpcl bpcl double dividend payout',\n",
              " 'exim bank launch export facilitation portal exim mitra',\n",
              " 'axis bank becomes third lender offer block chain service',\n",
              " 'citi lower growth forecast',\n",
              " 'sbi waif mdr charge small merchant one year',\n",
              " 'sequoia cdc eye organic food brand',\n",
              " 'mondelez pay million settle india fcpa violation charge',\n",
              " 'china revise gdp trillion',\n",
              " 'aamir dangal beat pk become highest',\n",
              " 'hsbc peg gdp growth note ban pain',\n",
              " 'shift investment liquid fund arbitrage fund',\n",
              " 'paul trump back health repeal replacement same time',\n",
              " 'immigration boost wealth not increase inequality imf',\n",
              " 'pharma edge go top',\n",
              " 'two stock bet going forward deven choksey',\n",
              " 'cbi conspiracy bureau india mamata banerjee',\n",
              " 'manmohan singh release congress punjab manifesto',\n",
              " 'frbm panel studying gdp tax number submit report soon',\n",
              " 'desi recipe going global building mcdonald indian food',\n",
              " 'earnings recovery will biggest trigger year gautam sinha roy',\n",
              " 'included bank deposit growth rate would higher tca anant',\n",
              " 'nobel prize winner not happy trumponomics',\n",
              " 'impact note ban corp earnings drive market',\n",
              " 'even good growth figure pawan kumar bajaj united bank',\n",
              " 'cotton price firm supply fall',\n",
              " 'fpis may get buy hdfc bank share afresh',\n",
              " 'demonetisation bump india maintain growth cisco chief john chamber',\n",
              " 'dollar firm softer yen lack energy elsewhere',\n",
              " 'will even difficult daljeet kohli indianivesh security',\n",
              " 'concern dumping obamacare growing among gop lawmaker',\n",
              " 'data could next technology hot button',\n",
              " 'good tax mopup not equal growth madan sabnavis care rating',\n",
              " 'genpact cisco collaborate centre smart city jaipur',\n",
              " 'india russia look reset bilateral tie',\n",
              " 'sell banking sector mutual fund',\n",
              " 'house panel call pm modi cash ban rbi reply not satisfactory',\n",
              " 'kkr raise r crore india',\n",
              " 'anuj puri quits jll ramesh nair step lead india business',\n",
              " 'oil price fall iran crude tanker export surge u add rig',\n",
              " 'gold edge but gain limited rate hike prospect',\n",
              " 'gold silver trade flat early trade yellow metal mcx test r',\n",
              " 'future looking servicing ikea market south',\n",
              " 'infra disappoint short term but turn multibagger year sunil subramaniam sundaram mutual',\n",
              " 'investor ambitious pharma sector santosh singh haitong security',\n",
              " 'stay duration bond fund year bond market going see shockwaves',\n",
              " 'trump prez trump transition will impact portfolio week',\n",
              " 'sensex turn flat rallying point nifty test',\n",
              " 'bond lose shine india inc cut bank lending rate',\n",
              " 'generis buy good aurobindo pharma surajit pal prabhudas liladher',\n",
              " 'rupee open nearly paisa dollar',\n",
              " 'gdp growth estimation optimistic michael every rabobank',\n",
              " 'alternative investment return monitor week ending january',\n",
              " 'ten stock focus monday january',\n",
              " 'view illusion high return distort thinking',\n",
              " 'slump showing plan investor ask',\n",
              " 'need know seven macro trigger market would watch today',\n",
              " 'time accumulate stock long term raamdeo agrawal motilal oswal financial service',\n",
              " 'annual strategic portfolio review must grow wealth',\n",
              " 'choose best tax saving instrument',\n",
              " 'pm narendra modi flying blind budget india growth guessing game',\n",
              " 'rbi started working demonetisation move month announcement',\n",
              " 'high priest black money opposing demonetisation pm narendra modi',\n",
              " 'nimbus communication founder harish thawani plan club ultra',\n",
              " 'demonetisation create new normal finance minister arun jaitley',\n",
              " 'checkout scientist building next generation logistics industry',\n",
              " 'government asks local handset company make sub',\n",
              " 'day see r l crore put cr new account',\n",
              " 'emirati city plan put indian cruise liner',\n",
              " 'barack obama health care legacy coverage conflict question',\n",
              " 'pm narendra modi asks pravasi bharatiya diva diaspora take indian citizen card soon',\n",
              " 'indus pip apple microsoft become second largest smartphone operating system india',\n",
              " 'pm narendra modi taken people money like pickpocket sitaram yechury',\n",
              " 'prime minister narendra modi hit political worshipper blackmoney graft',\n",
              " 'rbi not accepting scrapped note breach trust congress leader ahmed patel',\n",
              " 'parliamentary panel question rbi governor urjit patel cash crunch',\n",
              " 'investor ear donald trump set break silence',\n",
              " 'demonetisation impact last longer expected jean dreze',\n",
              " 'sebi seek detailed explanation tata firm mistry wadia allegation',\n",
              " 'ocs group target r crore revenue financial year',\n",
              " 'foreign fund cry foul rising cost want tax clarity',\n",
              " 'demonetisation impact rupee fall record low coming year say reuters poll',\n",
              " 'india major strategic partner will remain say french foreign minister jean',\n",
              " 'note ban significant impact gdp short',\n",
              " 'not tip truth service charge',\n",
              " 'wall street starting get nervous money pouring u stock',\n",
              " 'global economy weekahead investor eagerly await donald trump news conference',\n",
              " 'nine thing barack obama will remembered',\n",
              " 'tax black money deposited bank find owner fm',\n",
              " 'tax black money deposited bank find owner finance minister arun jaitley',\n",
              " 'money lost anonymity post demonetisation arun jaitley',\n",
              " 'pravasi bharatiya diva tribute greatest pravasi mahatma gandhi pm narendra modi',\n",
              " 'indian business optimistic economic revival',\n",
              " 'choked smog beijing creates new environmental police',\n",
              " 'view modi bad mao get history straight',\n",
              " 'domestic spend grow per cent r lakh crore year',\n",
              " 'pm thinking next gen rahul gandhi next session arun jaitley',\n",
              " 'india suffer damage due u',\n",
              " 'black money assessment report cant disclosed institute',\n",
              " 'first ever nokia smartphone android o launched coming year',\n",
              " 'top five factor chart market direction coming week',\n",
              " 'not enough data figure demonetisation impact gdp tca anant chief statistician',\n",
              " 'note ban hit gdp growth chidambaram',\n",
              " 'donald trump lambasts fool oppose better russia tie',\n",
              " 'demonetisation impact vendor customer wait money machh kolkata fish market',\n",
              " 'china take global lead clean energy report',\n",
              " 'krakow city carrying scar nazi occupation crackle bohemian spirit',\n",
              " 'accurate first advance gdp estimate',\n",
              " 'protectionism needed help domestic company sbi chief arundhati bhattacharya',\n",
              " 'card atm po will redundant india niti aayog',\n",
              " 'aurobindo pharma buy portugal generis mn euro',\n",
              " 'cash hoarder active investor birla sun life betting quick swipe option',\n",
              " 'likely maximum one fed rate hike marc faber',\n",
              " 'strong dollar may bash emerging market u economy',\n",
              " 'mobile wallet war taking fight paytm',\n",
              " 'saudi arabia suddenly allowing lot fun',\n",
              " 'bjp slam opposition criticising sacred noteban',\n",
              " 'view would catch global investor interest towards indian startup ecosystem',\n",
              " 'would avoid u invest em including india marc faber',\n",
              " 'deep impact demonetisation analyst count cost term job business loss',\n",
              " 'philosophy not hurry grow really big really fast india oneplus founder',\n",
              " 'delhi govt hike pension widow senior citizen',\n",
              " 'seven key event mobile phone industry watch',\n",
              " 'top five domestic market trigger watch first month',\n",
              " 'market buoyancy may not sustain book profit rise',\n",
              " 'week wa sensex nifty make promising start but will sustain',\n",
              " 'china december forex reserve fall le expected trillion',\n",
              " 'oneplus step india play open experience store bengaluru',\n",
              " 'proptiger housing makaan merged single legal entity',\n",
              " 'sbicap settle case sebi payment r lakh',\n",
              " 'pm meet business political leader gujarat summit',\n",
              " 'sensex rebound pt tata motor hindalco share rally',\n",
              " 'rbi autonomy fundamental fact maintain jalan',\n",
              " 'intas pharmaceutical completes deal acquire actavis',\n",
              " 'sensex nifty hold morning gain asia lower hindalco',\n",
              " 'india take advantage low interest rate kaku nakhate',\n",
              " 'sensex nifty may rangebound indusind q net seen',\n",
              " 'reform policy effectiveness decide india rating moody',\n",
              " 'icex get sebi nod diamond future trade',\n",
              " 'nifty sensex climb pt infosys gain',\n",
              " 'china dec producer price rise',\n",
              " 'asian stock lower nikkei slip kospi',\n",
              " 'sebi settle case genesis kotak mahindra bank case',\n",
              " 'sbi waif debit card charge small merchant year',\n",
              " 'sensex nifty fall nd day tc rebound dr reddy drag',\n",
              " 'budget capital gain tax but long',\n",
              " 'note ban impact realty not bad projected ajay piramal',\n",
              " 'nifty struggle ongc coal india loser',\n",
              " 'asian stock bounce u cue though dollar gain may clip wing',\n",
              " 'nifty sensex red itc bhel hero early gainer',\n",
              " 'sensex nifty may positive market cautious stock',\n",
              " 'new policy coming america could take weight fed powell',\n",
              " 'china confident economy grew',\n",
              " 'steel min seek import duty reduction coking coal nickel',\n",
              " 'sebi query tata firm mistry wadia allegation',\n",
              " 'convert pio card oci card pm tell overseas indian',\n",
              " 'despite demonetisation india grow faster china',\n",
              " 'aurobindo pharma buy portugal',\n",
              " 'china forex reserve fall th mnth dec near trillion',\n",
              " 'reit invits sebi easy entry insurer pension fund',\n",
              " 'fy gdp may lag advance estimate caution expert',\n",
              " 'sebi allow mutual fund invest reit invits',\n",
              " 'euro zone start year happy mood germany outlook bright',\n",
              " 'air india begin sale ticket rajdhani express fare',\n",
              " 'sensex pt ahead q earnings tank h b bill',\n",
              " 'china nibble samsung share take india mobile mkt',\n",
              " 'demonetisation may lead temporary slowdown warns pranab',\n",
              " 'tax refund exporter gst within seven day commerce min',\n",
              " 'nifty reclaims sensex climb stock sulk visa issue',\n",
              " 'china raise yuan fixing since battle yuan bear',\n",
              " 'asia share mixed japan automaker trump toyota rebuke',\n",
              " 'demonetisation budget mind',\n",
              " 'yv reddy bimal jalan stoke debate steady erosion rbi autonomy',\n",
              " 'sensex nifty see tepid growth say foreign brokerage',\n",
              " 'hedge fund well em thanks asia',\n",
              " 'american company thinking long term',\n",
              " 'piramal finance invests r crore prateek group project',\n",
              " 'chryscapital sell stake intas pharma',\n",
              " 'niti aayog project farm growth overshooting cso estimate',\n",
              " 'two arrested printing circulating fake r r note delhi',\n",
              " 'angela merkel looking fourth term despite headwind',\n",
              " 'modi vibrant gujarat summit govt committed continue economic reform',\n",
              " 'lowe lintas win cargill food india creative mandate',\n",
              " 'many see higher home mortgage rate u',\n",
              " 'demonetisation sbi chief say situation will normalise february',\n",
              " 'jack meet trump pledge market u product china',\n",
              " 'demonetisation impact housing sale october',\n",
              " 'auto sale plunge year narendra modi demonetisation move',\n",
              " 'forget apple woo tesla instead set manufacturing india',\n",
              " 'rbi deputy governor viral acharya say india exciting but challenging time',\n",
              " 'modi killed r note paytm cashed opportunity',\n",
              " 'deutsche bank set december sensex target',\n",
              " 'viacom localizes deepika padukone vin diesel',\n",
              " 'deal buzz ajay piramal eye raising stake shriram capital',\n",
              " 'smoking cost trillion soon kill million year',\n",
              " 'auto component firm margin peaked raw material cost rise',\n",
              " 'rupee strengthens u dollar asian cue',\n",
              " 'live sensex opening trade piramal enterprise share rise',\n",
              " 'value stock back reckoning note ban cloud earnings outlook',\n",
              " 'opening bell global equity retreat fortis max venture tata steel news',\n",
              " 'modified india lesson america builder',\n",
              " 'construction real estate project spike december quarter despite note ban',\n",
              " 'economic growth much weaker headline number show',\n",
              " 'margin threat home loan lender',\n",
              " 'congress manifesto punjab poll target woman youth farmer',\n",
              " 'fashion marketplace coutloot buy store',\n",
              " 'kae capital plan invest eight start',\n",
              " 'acknowledging new face urban india',\n",
              " 'bse ipo share may priced r',\n",
              " 'making city safe woman',\n",
              " 'donald trump team india policy',\n",
              " 'chinese firm taxed death',\n",
              " 'v balasubramanian head india international exchange',\n",
              " 'rbi facing reputational risk say former governor v reddy',\n",
              " 'fiat invest billion modernize two u plant donald trump threat',\n",
              " 'maheshwari logistics sme ipo fetch r crore subscription',\n",
              " 'digital perceived risk come spread decrease',\n",
              " 'card payment continue petrol pump jan without fee government',\n",
              " 'mcdonald sell china operation billion',\n",
              " 'will donald trump really able deliver fiscal stimulus',\n",
              " 'global gold price edge but gain limited fed reserve rate hike prospect',\n",
              " 'demonetisation impact direct tax collection say arun jaitley',\n",
              " 'amrut distillery take home',\n",
              " 'cashless king modi india e',\n",
              " 'robot rampage donald trump isnt talking',\n",
              " 'rupee weakens u dollar asian cue lower gdp estimate',\n",
              " 'modi flying blind budget india growth guessing game note ban',\n",
              " 'will universal basic income work india',\n",
              " 'opening bell asian market open higher aurobindo coal india news',\n",
              " 'despite sound fury sensex lower wa two year ago',\n",
              " 'american public trump',\n",
              " 'rbi bounty independence',\n",
              " 'tech giant race trillion dollar',\n",
              " 'innoven capital invests swiggy start',\n",
              " 'will aadhaar help poor become cashless',\n",
              " 'lot money looking india cppib mark machin',\n",
              " 'lic lower equity investment target r cr fy',\n",
              " 'landlord may not hike rent year',\n",
              " 'investing dont miss wood tree',\n",
              " 'new investment intention consumer sentiment low',\n",
              " 'uk shopper brace new brexit test inflation pick',\n",
              " 'barack obama say american skepticism gave campaign hack foothold',\n",
              " 'narendra modi taken people money like pickpocket say sitaram yechury',\n",
              " 'convert pio card oci card narendra modi tell overseas indian',\n",
              " 'parliamentary committee question rbi governor cash crunch',\n",
              " 'day life bank branch manager',\n",
              " 'modi taking futuristic step rahul gandhi want disrupt parliament arun jaitley',\n",
              " 'sebi seek explanation tata firm cyrus mistry nusli wadia allegation',\n",
              " 'modi call opponent demonetisation political worshipper black money',\n",
              " 'delhi trader meet kejriwal making connaught place vehicle',\n",
              " 'u official mexico shot chest',\n",
              " 'gdp growth estimate dhoni step bank cut rate',\n",
              " 'go see',\n",
              " 'paper boat google brand rely nostalgia',\n",
              " 'demonetisation hit indian economy p chidambaram',\n",
              " 'india portugal sign defence six pact boost tie',\n",
              " 'sbi say home loan query jump three time since rate cut',\n",
              " 'budget session parliament convened january',\n",
              " 'aurobindo pharma acquire portugal generis million',\n",
              " 'rupee fall record low coming year reuters poll',\n",
              " 'donald trump rhetoric raise spectre',\n",
              " 'govt relaxes company act norm ifsc firm',\n",
              " 'focus take people atm po channel say p hota',\n",
              " 'u job growth slows but wage rebound strongly',\n",
              " 'rbi provide r billion r note ease currency crisis nepal',\n",
              " 'obeetee collaborates tarun tahiliani',\n",
              " 'india gdp growth may decelerate fy cso',\n",
              " 'oil price dip lingering doubt supply cut commitment',\n",
              " 'will opec deliver output cut deal',\n",
              " 'portugal attractive investment destination indian',\n",
              " 'samsung beat estimate chip shake note problem',\n",
              " 'fiat take another aim revive india business',\n",
              " 'boeing said close billion order spicejet',\n",
              " 'air india private airline match rajdhani fare boost passenger traffic',\n",
              " 'vibrant gujarat marketing gimmick investment driver',\n",
              " 'job cut loom large modi plan strategic sale sick state',\n",
              " 'tata group firm market cap appears robust despite ouster cyrus mistry',\n",
              " 'board recommended note ban govt advice rbi parliamentary panel',\n",
              " 'govt committed reform indian economy pm modi vibrant gujarat summit',\n",
              " 'vistara announces anniversary sale ticket starting r',\n",
              " 'gold top r mark hit',\n",
              " 'sensex touch december year deutsche bank',\n",
              " 'canada give thumb modi note ban',\n",
              " 'sensex extends slide choppy trade fall point',\n",
              " 'pac call pm cash ban rbi reply not satisfactory',\n",
              " 'sensex nifty trading flat amid likely note ban effect q earnings',\n",
              " 'rupee fall record low reuters poll',\n",
              " 'sensex gain point positive asian cue',\n",
              " 'asian stock bounce u cue though dlr gain may clip wing',\n",
              " 'pm modi say demonetisation political worshipper black money',\n",
              " 'india brace growth chill modi cash crackdown',\n",
              " 'despite demonetisation india grow faster china singaporean diplomat',\n",
              " 'rbi give nepal r billion r note ease crisis report',\n",
              " 'gdp growth decline predicts government',\n",
              " 'fm target fiscal deficit gdp fy bofa',\n",
              " 'el best tax saving investment option',\n",
              " 'china take per cent india smartphone market',\n",
              " 'sensex climb pt nifty reclaims',\n",
              " 'air india provide seat rajdhani express train fare',\n",
              " 'dollar u yield retreat trump trade unwinds',\n",
              " 'indian railway look boost digital transaction non',\n",
              " 'rbi doesnt decide anything decision taken pm narendra modi amartya sen',\n",
              " 'xi jinping first chinese president attend davos forum',\n",
              " 'note ban gain highly uncertain say fitch',\n",
              " 'demonetisation clear mistake but narendra modi will get benefit doubt say amartya sen',\n",
              " 'economy returning back normalcy faster expected anand mahindra',\n",
              " 'cisco chairman john chamber bet india say gdp grow',\n",
              " 'ibm top u patent list indian inventor contribute patent',\n",
              " 'gujarat podium pm narendra modi tell one invest india key takeaway',\n",
              " 'auto industry pin hope budget boost consumer sentiment',\n",
              " 'driver digital summit discus opportunity challenge digital medium',\n",
              " 'market settle decent gain sensex rise point',\n",
              " 'yatra introduces upi website',\n",
              " 'effect demonetisation used car sale road ahead',\n",
              " 'merging railway budget budget good step but focus railway not lost tilak raj seth siemens',\n",
              " 'blue revolution west bengal eye fishery sunrise sector',\n",
              " 'air india shame time sell third worst performing airline world',\n",
              " 'angel broking top pick january',\n",
              " 'market rally morning trade sensex soar point',\n",
              " 'market remains volatile right time invest equity mutual fund',\n",
              " 'transaction fee fuel outlet even january',\n",
              " 'demonetisation arun jaitley cite tax growth wake note ban counter critic',\n",
              " 'onion price drop r per kg lasalgaon demand indian railway wagon soar',\n",
              " 'pm narendra modi open bse international exchange move financial service centre closer reality',\n",
              " 'budget telecom industry waiting narendra modi government dial right tax code',\n",
              " 'agriculture pmo doesnt pay heed realising sabka saath sabka vikas eliminating poverty may remain distant dream',\n",
              " 'demonetisation impact gdp high tax mop critical india',\n",
              " 'equity fund witness steady flow despite mkt volatility',\n",
              " 'mahindra amc use mahindra finance network expansion',\n",
              " 'oil market torn saudi led supply cut rising output elsewhere',\n",
              " 'new city would important creating new india prime minister narendra modi',\n",
              " 'pm narendra modi inaugurates nobel prize exhibition',\n",
              " 'printing r note stopped future baba ramdev',\n",
              " 'kamal haasan meant said want ban jallikattu ban biriyani respect tamil culture open mind',\n",
              " 'pan mandatory migration gst say cbec',\n",
              " 'arun jaitley wrong dismiss demonetisation impact gdp growth citing tax collection',\n",
              " 'municipal official trip delhi new lt governor anil baijal',\n",
              " 'cisco partner rajasthan govt digital classroom smart water management',\n",
              " 'modi demonetisation hit gdp growth fall fy say hsbc',\n",
              " 'nifty settle flat dull session sensex fall point',\n",
              " 'demonetisation bump india maintain growth cisco',\n",
              " 'budget steel ministry seek import duty reduction coking coal nickel',\n",
              " 'petrol pump versus bank clash punched big hole pm modi cashless economy dream',\n",
              " 'public account committee call pm narendra modi cash ban rbi reply not satisfactory',\n",
              " 'fm arun jaitley say indirect tax soared april december',\n",
              " 'china would break tie u donald trump tear one',\n",
              " 'amma vision tamil nadu remains blueprint tamil nadu chief minister panneerselvam india today south conclave',\n",
              " 'market slip negative zone sensex fall point',\n",
              " 'gold pressure u rate hike prospect',\n",
              " 'business school create india',\n",
              " 'demonetisation auto fmcg realty telecom company worst',\n",
              " 'entrepreneurship basic research bedrock innovation say tau president joseph klafter',\n",
              " 'bihar minister lash union minister public demonetisation',\n",
              " 'stock market energy healthcare best',\n",
              " 'boost slowing indian economy find',\n",
              " 'social cost demonetisation challenge check new black economy',\n",
              " 'nano ganesh mobile phone tech helped maharashtra farmer water plant remotely',\n",
              " 'invest sectoral mutual fund find',\n",
              " 'digital india internet opportunity abound even despair privacy security soar',\n",
              " 'fiat chrysler build new jeep create job u',\n",
              " 'donald trump opposite u president barack obama',\n",
              " 'former iranian president akbar hashem rafsanjani dead wa one titan post',\n",
              " 'bjp win big faridabad civic poll claim voter gave thumb narendra modi demonetisation drive',\n",
              " 'arun jaitley look back demonetisation atm queue narendra modi rahul gandhi top key takeaway',\n",
              " ...]"
            ]
          },
          "metadata": {},
          "execution_count": 11
        }
      ],
      "source": [
        "corpus"
      ]
    },
    {
      "cell_type": "markdown",
      "source": [
        "##### Can be ignored"
      ],
      "metadata": {
        "id": "4TClOvfyWvgX"
      }
    },
    {
      "cell_type": "code",
      "source": [
        "'''\n",
        "  generating/verifying constants\n",
        "'''\n",
        "# getting unique words\n",
        "def print_unique(data):\n",
        "  cnt = set();\n",
        "  for sentence in data:\n",
        "    for word in sentence.split():\n",
        "      cnt.add(word)\n",
        "  print(\"unique words: \"+ str(len(cnt)))\n",
        "\n",
        "def max_len_sentence(data):\n",
        "  max_len = 0\n",
        "  max_sent = \"\"\n",
        "  for sentence in data:\n",
        "    t = len(sentence.split())\n",
        "    if max_len < t:\n",
        "      max_len = t\n",
        "      max_sent = sentence\n",
        "  print(\"sendtence:  (\"+ max_sent+\") has max length of \"+ str(max_len))\n",
        "\n",
        "# print_unique(corpus)\n",
        "# max_len_sentence(corpus)"
      ],
      "metadata": {
        "id": "heTzVw8AXWAt"
      },
      "execution_count": 12,
      "outputs": []
    },
    {
      "cell_type": "code",
      "source": [
        "## Tokenizer Playground\n",
        "def try_tokenizer():  \n",
        "  t = Tokenizer()\n",
        "\n",
        "  x = [\"This is something bad\", \"This is something good\"]\n",
        "  y = [0,1]\n",
        "\n",
        "\n",
        "  t.fit_on_texts(x)\n",
        "\n",
        "  word_index = t.word_index\n",
        "  print(\"word index:\\n\", word_index)\n",
        "  print(\"unique_words: \", len(word_index))\n",
        "\n",
        "  print(\"\\nDictionary: \")\n",
        "  for w,i in t.word_index.items():\n",
        "    print(w,i)\n",
        "\n",
        "  seq = t.texts_to_sequences(x)\n",
        "  print(\"\\nSequences: \", seq)\n",
        "\n",
        "  y = np.asarray(y) # input to array\n",
        "  print(\"y: \", y)\n",
        "# try_tokenizer()"
      ],
      "metadata": {
        "id": "k5Os3k3FjVL4"
      },
      "execution_count": 13,
      "outputs": []
    },
    {
      "cell_type": "markdown",
      "source": [
        "# Generating Own Word Embeddings Model with Word2Vec"
      ],
      "metadata": {
        "id": "MfBoUle_MT4q"
      }
    },
    {
      "cell_type": "code",
      "source": [
        "def generate_word2vec_tokens(list_of_sentences):\n",
        "  sentences = []\n",
        "  for s in list_of_sentences:\n",
        "    sentences.append(s.split())\n",
        "  return sentences\n",
        "\n",
        "def generate_word2vec(sentences):\n",
        "  w2v_model=gensim.models.Word2Vec(sentences=sentences,size=300,window=10,min_count=1)\n",
        "  w2v_model.train(sentences,epochs=10,total_examples=len(sentences))\n",
        "  return w2v_model\n",
        "  \n",
        "def save_word2vec(word2vec_model, model_name):\n",
        "  word2vec_model.wv.save_word2vec_format(MODEL_DIR+model_name, binary=True)\n",
        "\n",
        "def load_word2vec(model_name):\n",
        "  loaded_model = gensim.models.KeyedVectors.load_word2vec_format(MODEL_DIR+model_name, binary=True)\n",
        "  return loaded_model\n",
        "\n",
        "def word2vec_play(model):\n",
        "  print(len(w2v_model.wv.get_vector('jio')), '\\n',w2v_model.wv.get_vector('jio'))\n",
        "\n",
        "  w2v_model.wv.most_similar('house')\n",
        "\n",
        "  w2v_model.wv.similarity('good','like')\n",
        "\n",
        "  vocab=list(w2v_model.wv.vocab.keys())\n",
        "\n",
        "  print(\"Vocabulary (total dictionary keys) : \", vocab)"
      ],
      "metadata": {
        "id": "LM-B7OB_Mcdy"
      },
      "execution_count": 14,
      "outputs": []
    },
    {
      "cell_type": "code",
      "source": [
        "# ss = generate_word2vec_tokens(corpus)\n",
        "# word2vec_model = generate_word2vec(ss)\n",
        "# save_word2vec(word2vec_model, 'word2vec/word2vec.bin')\n",
        "w2v_model = load_word2vec('word2vec/word2vec.bin')"
      ],
      "metadata": {
        "id": "D5y5ifF2OsNx"
      },
      "execution_count": 15,
      "outputs": []
    },
    {
      "cell_type": "code",
      "source": [
        "def apply_tokenizer(data):\n",
        "  tok = Tokenizer(num_words = VOC_SIZE)\n",
        "  tok.fit_on_texts(corpus)\n",
        "  encoded_data = tok.texts_to_sequences(corpus) \n",
        "  return [tok, encoded_data]\n",
        "  \n",
        "def apply_padding(data):\n",
        "  pad_data = pad_sequences(data, maxlen=SENT_LEN)\n",
        "  print(\"New Dimensions: \", pad_data.shape)\n",
        "  return pad_data\n",
        "\n",
        "def generate_embedded_matrix(tok, w2v_model):\n",
        "  embed_matrix=np.zeros(shape=(VOC_SIZE,EMBED_DIM))\n",
        "  for word,i in tok.word_index.items():\n",
        "    embed_vector=w2v_model.wv.get_vector(word)\n",
        "    if embed_vector is not None:  # word is in the vocabulary learned by the w2v model\n",
        "      embed_matrix[i]=embed_vector\n",
        "  return embed_matrix"
      ],
      "metadata": {
        "id": "G77s52Q7QfAQ"
      },
      "execution_count": 16,
      "outputs": []
    },
    {
      "cell_type": "code",
      "source": [
        "tok, encoded_corpus = apply_tokenizer(corpus)"
      ],
      "metadata": {
        "id": "cT-KKop2Q7SM"
      },
      "execution_count": 17,
      "outputs": []
    },
    {
      "cell_type": "code",
      "source": [
        "pad_corpus = apply_padding(encoded_corpus)"
      ],
      "metadata": {
        "colab": {
          "base_uri": "https://localhost:8080/"
        },
        "id": "F94WGkUMRhBm",
        "outputId": "6f906031-7a53-4386-b523-53f86cb76f8c"
      },
      "execution_count": 18,
      "outputs": [
        {
          "output_type": "stream",
          "name": "stdout",
          "text": [
            "New Dimensions:  (200500, 40)\n"
          ]
        }
      ]
    },
    {
      "cell_type": "code",
      "source": [
        "embed_matrix = generate_embedded_matrix(tok, w2v_model)"
      ],
      "metadata": {
        "colab": {
          "base_uri": "https://localhost:8080/"
        },
        "id": "dPRbm16dS1FP",
        "outputId": "3b56d2f5-ec90-44dc-c38b-05cd4b5bdeb3"
      },
      "execution_count": 19,
      "outputs": [
        {
          "output_type": "stream",
          "name": "stderr",
          "text": [
            "<ipython-input-16-9e55257125f8>:15: DeprecationWarning: Call to deprecated `wv` (Attribute will be removed in 4.0.0, use self instead).\n",
            "  embed_vector=w2v_model.wv.get_vector(word)\n"
          ]
        }
      ]
    },
    {
      "cell_type": "code",
      "source": [
        "def compare_ori_embed():\n",
        "  s = corpus[0]\n",
        "  for word in s.split():\n",
        "    print(word + \" ~ \" + str(tok.word_index[word]) + \" ~ \" + str(embed_matrix[tok.word_index[word]]))\n",
        "    print(\"\\n\")\n",
        "# compare_ori_embed()"
      ],
      "metadata": {
        "id": "IJK-gdpWTh7X"
      },
      "execution_count": 20,
      "outputs": []
    },
    {
      "cell_type": "code",
      "source": [
        "# print(embed_matrix[14] == w2v_model.wv.get_vector('rbi'))"
      ],
      "metadata": {
        "id": "OepCX1sSVjAc"
      },
      "execution_count": 21,
      "outputs": []
    },
    {
      "cell_type": "markdown",
      "source": [
        "# Creating Train & Test Data"
      ],
      "metadata": {
        "id": "09yAkr8NNyfS"
      }
    },
    {
      "cell_type": "code",
      "execution_count": 22,
      "metadata": {
        "id": "FN5plPZekQbF"
      },
      "outputs": [],
      "source": [
        "import numpy as np\n",
        "X_final=pad_corpus\n",
        "y_final= np.array(y) "
      ]
    },
    {
      "cell_type": "code",
      "execution_count": 23,
      "metadata": {
        "colab": {
          "base_uri": "https://localhost:8080/"
        },
        "id": "Bvzp0VYOkQbF",
        "outputId": "b93a6875-7531-4025-bc1b-4074a2d6ec67"
      },
      "outputs": [
        {
          "output_type": "execute_result",
          "data": {
            "text/plain": [
              "((200500, 40), (200500,))"
            ]
          },
          "metadata": {},
          "execution_count": 23
        }
      ],
      "source": [
        "X_final.shape,y_final.shape"
      ]
    },
    {
      "cell_type": "code",
      "execution_count": 24,
      "metadata": {
        "id": "I8r4eUgCkQbF"
      },
      "outputs": [],
      "source": [
        "from sklearn.model_selection import train_test_split\n",
        "X_train, X_test, y_train, y_test = train_test_split(X_final, y_final, test_size=TEST_SIZE, random_state=42)"
      ]
    },
    {
      "cell_type": "code",
      "execution_count": 25,
      "metadata": {
        "id": "5IW8QY5fXy7i"
      },
      "outputs": [],
      "source": [
        "acc = []\n",
        "models = []"
      ]
    },
    {
      "cell_type": "code",
      "source": [
        "# Create Model\n",
        "def create_model(MODEL):\n",
        "  model=Sequential()\n",
        "  model.add(Embedding(input_dim=VOC_SIZE,output_dim=EMBED_DIM,input_length=SENT_LEN,embeddings_initializer=Constant(embed_matrix)))\n",
        "  model.add(Dense(256))\n",
        "  model.add(Dropout(0.05))\n",
        "  model.add(MODEL)\n",
        "  model.add(Dense(1,activation='sigmoid'))\n",
        "  model.compile(loss='binary_crossentropy',optimizer='adam',metrics=['accuracy'])\n",
        "  model.summary()\n",
        "  return model\n",
        "\n",
        "# Train Model\n",
        "def train_model(MODEL, x_train, y_train):\n",
        "  earlystop = tf.keras.callbacks.EarlyStopping(monitor='val_loss', min_delta=0, patience=3, verbose=0, mode='auto')\n",
        "  # callback = tf.keras.callbacks.EarlyStopping(monitor='val_accuracy', patience=5, min_delta=0.0025)\n",
        "  MODEL.fit(\n",
        "      x_train,\n",
        "      y_train, \n",
        "      validation_split=0.1, \n",
        "      epochs=EPOCHS, \n",
        "      shuffle=True, \n",
        "      batch_size=BATCH_SIZE\n",
        "      ,callbacks=[earlystop]\n",
        "  )\n",
        "\n",
        "def generate_confusion_matrix(y_test, y_pred):\n",
        "  cm = confusion_matrix(y_test,y_pred)\n",
        "\n",
        "  ax = plt.subplot()\n",
        "  sns.set(font_scale=3.0) # Adjust to fit\n",
        "  sns.heatmap(cm, annot=True, ax=ax, cmap=\"Blues\", fmt=\"g\");  \n",
        "\n",
        "  label_font = {'size':'18'}  # Adjust to fit\n",
        "  ax.set_xlabel('Predicted labels', fontdict=label_font);\n",
        "  ax.set_ylabel('True labels', fontdict=label_font);\n",
        "\n",
        "  ax.set_title('Confusion Matrix', fontdict=label_font);\n",
        "\n",
        "  ax.xaxis.set_ticklabels(['Real', 'Fake']);\n",
        "  ax.yaxis.set_ticklabels(['Real', 'Fake']);\n",
        "  plt.show()\n",
        "\n",
        "def save_model_accuracy(model_name, accuracy):\n",
        "  acc.append(accuracy)\n",
        "  models.append(model_name)\n",
        "\n",
        "def generate_classification_report(y_test, y_pred):\n",
        "  print(classification_report(y_test,y_pred))\n",
        "\n",
        "# Test Model\n",
        "def test_model(MODEL, model_name, x_test, y_test):\n",
        "  y_pred=MODEL.predict(x_test)\n",
        "  y_pred=np.where(y_pred >= 0.5, 1,0)\n",
        "  score = accuracy_score(y_pred,y_test)\n",
        "  print('Model Accuracy: ',score)\n",
        "  print(\"\\n\\n\")\n",
        "  generate_confusion_matrix(y_test, y_pred)\n",
        "  print(\"\\n\\nClassification Report\")\n",
        "  generate_classification_report(y_test,y_pred)\n",
        "  save_model_accuracy(model_name, score)\n",
        "\n",
        "# save model\n",
        "def save_model(MODEL, model_name):\n",
        "  MODEL.save(MODEL_DIR+model_name)\n",
        "  \n",
        "# load model\n",
        "def load_model(model_name):\n",
        "  loaded_model = tf.keras.models.load_model(MODEL_DIR+model_name)\n",
        "  return loaded_model\n",
        "\n",
        "# save pickle \n",
        "def save_pi_model(MODEL, model_name):\n",
        "  with open(MODEL_DIR + model_name, 'wb') as f:\n",
        "    pickle.dump(MODEL, f)\n",
        "\n",
        "# load pickle\n",
        "def load_pi_model(model_name):\n",
        "  with open(MODEL_DIR + model_name, 'rb') as f:\n",
        "    loaded_model = pickle.load(f)\n",
        "  return loaded_model"
      ],
      "metadata": {
        "id": "RhzEk_Vs5FVz"
      },
      "execution_count": 26,
      "outputs": []
    },
    {
      "cell_type": "markdown",
      "metadata": {
        "id": "Ecnj55srB5iW"
      },
      "source": [
        "# RNN LSTM"
      ]
    },
    {
      "cell_type": "code",
      "execution_count": 27,
      "metadata": {
        "colab": {
          "base_uri": "https://localhost:8080/",
          "height": 1000
        },
        "id": "PgmuBzHKkQbF",
        "outputId": "841cdc92-22b5-4c7f-c6d0-d352ac715937"
      },
      "outputs": [
        {
          "output_type": "stream",
          "name": "stdout",
          "text": [
            "Model: \"sequential\"\n",
            "_________________________________________________________________\n",
            " Layer (type)                Output Shape              Param #   \n",
            "=================================================================\n",
            " embedding (Embedding)       (None, 40, 300)           12000000  \n",
            "                                                                 \n",
            " dense (Dense)               (None, 40, 256)           77056     \n",
            "                                                                 \n",
            " dropout (Dropout)           (None, 40, 256)           0         \n",
            "                                                                 \n",
            " lstm (LSTM)                 (None, 256)               525312    \n",
            "                                                                 \n",
            " dense_1 (Dense)             (None, 1)                 257       \n",
            "                                                                 \n",
            "=================================================================\n",
            "Total params: 12,602,625\n",
            "Trainable params: 12,602,625\n",
            "Non-trainable params: 0\n",
            "_________________________________________________________________\n",
            "Epoch 1/20\n",
            "1805/1805 [==============================] - 39s 17ms/step - loss: 0.4683 - accuracy: 0.7733 - val_loss: 0.4576 - val_accuracy: 0.7786\n",
            "Epoch 2/20\n",
            "1805/1805 [==============================] - 29s 16ms/step - loss: 0.3686 - accuracy: 0.8334 - val_loss: 0.4619 - val_accuracy: 0.7829\n",
            "Epoch 3/20\n",
            "1805/1805 [==============================] - 29s 16ms/step - loss: 0.3112 - accuracy: 0.8625 - val_loss: 0.4853 - val_accuracy: 0.7805\n",
            "Epoch 4/20\n",
            "1805/1805 [==============================] - 30s 16ms/step - loss: 0.2685 - accuracy: 0.8833 - val_loss: 0.5294 - val_accuracy: 0.7734\n",
            "1880/1880 [==============================] - 6s 3ms/step\n",
            "Model Accuracy:  0.8999168744804655\n",
            "\n",
            "\n",
            "\n"
          ]
        },
        {
          "output_type": "display_data",
          "data": {
            "text/plain": [
              "<Figure size 432x288 with 2 Axes>"
            ],
            "image/png": "[encoded data removed]"
          },
          "metadata": {
            "needs_background": "light"
          }
        },
        {
          "output_type": "stream",
          "name": "stdout",
          "text": [
            "\n",
            "\n",
            "Classification Report\n",
            "              precision    recall  f1-score   support\n",
            "\n",
            "           0       0.91      0.90      0.91     32437\n",
            "           1       0.89      0.89      0.89     27713\n",
            "\n",
            "    accuracy                           0.90     60150\n",
            "   macro avg       0.90      0.90      0.90     60150\n",
            "weighted avg       0.90      0.90      0.90     60150\n",
            "\n"
          ]
        }
      ],
      "source": [
        "lstm_model=create_model(LSTM(256))\n",
        "train_model(lstm_model, X_final, y_final)\n",
        "test_model(lstm_model,\"RNN_LSTM\", X_test, y_test)\n",
        "save_model(lstm_model, 'word2vec/rnn_lstm.h5')\n",
        "# loaded_model = load_model('word2vec/rnn_lstm.h5')"
      ]
    },
    {
      "cell_type": "markdown",
      "metadata": {
        "id": "2DeuZDkHI09L"
      },
      "source": [
        "# RNN"
      ]
    },
    {
      "cell_type": "code",
      "execution_count": 28,
      "metadata": {
        "colab": {
          "base_uri": "https://localhost:8080/",
          "height": 1000
        },
        "id": "6yEPAlswM-bc",
        "outputId": "16a8cd44-9fff-4c59-fdbb-a4e0ab926166"
      },
      "outputs": [
        {
          "output_type": "stream",
          "name": "stdout",
          "text": [
            "Model: \"sequential_1\"\n",
            "_________________________________________________________________\n",
            " Layer (type)                Output Shape              Param #   \n",
            "=================================================================\n",
            " embedding_1 (Embedding)     (None, 40, 300)           12000000  \n",
            "                                                                 \n",
            " dense_2 (Dense)             (None, 40, 256)           77056     \n",
            "                                                                 \n",
            " dropout_1 (Dropout)         (None, 40, 256)           0         \n",
            "                                                                 \n",
            " simple_rnn (SimpleRNN)      (None, 256)               131328    \n",
            "                                                                 \n",
            " dense_3 (Dense)             (None, 1)                 257       \n",
            "                                                                 \n",
            "=================================================================\n",
            "Total params: 12,208,641\n",
            "Trainable params: 12,208,641\n",
            "Non-trainable params: 0\n",
            "_________________________________________________________________\n",
            "Epoch 1/20\n",
            "1805/1805 [==============================] - 100s 55ms/step - loss: 0.5435 - accuracy: 0.7287 - val_loss: 0.5005 - val_accuracy: 0.7537\n",
            "Epoch 2/20\n",
            "1805/1805 [==============================] - 100s 55ms/step - loss: 0.4492 - accuracy: 0.7917 - val_loss: 0.4810 - val_accuracy: 0.7713\n",
            "Epoch 3/20\n",
            "1805/1805 [==============================] - 99s 55ms/step - loss: 0.4183 - accuracy: 0.8113 - val_loss: 0.4979 - val_accuracy: 0.7684\n",
            "Epoch 4/20\n",
            "1805/1805 [==============================] - 99s 55ms/step - loss: 0.3865 - accuracy: 0.8274 - val_loss: 0.5023 - val_accuracy: 0.7652\n",
            "Epoch 5/20\n",
            "1805/1805 [==============================] - 94s 52ms/step - loss: 0.3566 - accuracy: 0.8416 - val_loss: 0.5223 - val_accuracy: 0.7692\n",
            "1880/1880 [==============================] - 11s 6ms/step\n",
            "Model Accuracy:  0.8507065669160432\n",
            "\n",
            "\n",
            "\n"
          ]
        },
        {
          "output_type": "display_data",
          "data": {
            "text/plain": [
              "<Figure size 432x288 with 2 Axes>"
            ],
            "image/png": "[encoded data removed]"
          },
          "metadata": {}
        },
        {
          "output_type": "stream",
          "name": "stdout",
          "text": [
            "\n",
            "\n",
            "Classification Report\n",
            "              precision    recall  f1-score   support\n",
            "\n",
            "           0       0.87      0.85      0.86     32437\n",
            "           1       0.83      0.85      0.84     27713\n",
            "\n",
            "    accuracy                           0.85     60150\n",
            "   macro avg       0.85      0.85      0.85     60150\n",
            "weighted avg       0.85      0.85      0.85     60150\n",
            "\n"
          ]
        }
      ],
      "source": [
        "rnn_model = create_model(SimpleRNN(256))\n",
        "train_model(rnn_model, X_final, y_final)\n",
        "test_model(rnn_model,\"Simple_RNN\", X_test, y_test)\n",
        "save_model(rnn_model, 'word2vec/rnn.h5')\n",
        "# loaded_model = load_model('word2vec/rnn.h5')"
      ]
    },
    {
      "cell_type": "markdown",
      "metadata": {
        "id": "7zzZ_75HMP2j"
      },
      "source": [
        "# RNN GRU"
      ]
    },
    {
      "cell_type": "code",
      "execution_count": 29,
      "metadata": {
        "id": "XZad7BTVOJD7",
        "colab": {
          "base_uri": "https://localhost:8080/",
          "height": 1000
        },
        "outputId": "97586f59-30cd-43d2-dc64-407c0a7fae58"
      },
      "outputs": [
        {
          "output_type": "stream",
          "name": "stdout",
          "text": [
            "Model: \"sequential_2\"\n",
            "_________________________________________________________________\n",
            " Layer (type)                Output Shape              Param #   \n",
            "=================================================================\n",
            " embedding_2 (Embedding)     (None, 40, 300)           12000000  \n",
            "                                                                 \n",
            " dense_4 (Dense)             (None, 40, 256)           77056     \n",
            "                                                                 \n",
            " dropout_2 (Dropout)         (None, 40, 256)           0         \n",
            "                                                                 \n",
            " gru (GRU)                   (None, 256)               394752    \n",
            "                                                                 \n",
            " dense_5 (Dense)             (None, 1)                 257       \n",
            "                                                                 \n",
            "=================================================================\n",
            "Total params: 12,472,065\n",
            "Trainable params: 12,472,065\n",
            "Non-trainable params: 0\n",
            "_________________________________________________________________\n",
            "Epoch 1/20\n",
            "1805/1805 [==============================] - 30s 16ms/step - loss: 0.4710 - accuracy: 0.7708 - val_loss: 0.4619 - val_accuracy: 0.7771\n",
            "Epoch 2/20\n",
            "1805/1805 [==============================] - 27s 15ms/step - loss: 0.3711 - accuracy: 0.8316 - val_loss: 0.4634 - val_accuracy: 0.7818\n",
            "Epoch 3/20\n",
            "1805/1805 [==============================] - 27s 15ms/step - loss: 0.3157 - accuracy: 0.8603 - val_loss: 0.4829 - val_accuracy: 0.7784\n",
            "Epoch 4/20\n",
            "1805/1805 [==============================] - 27s 15ms/step - loss: 0.2742 - accuracy: 0.8805 - val_loss: 0.5439 - val_accuracy: 0.7717\n",
            "1880/1880 [==============================] - 6s 3ms/step\n",
            "Model Accuracy:  0.8942310889443059\n",
            "\n",
            "\n",
            "\n"
          ]
        },
        {
          "output_type": "display_data",
          "data": {
            "text/plain": [
              "<Figure size 432x288 with 2 Axes>"
            ],
            "image/png": "[encoded data removed]"
          },
          "metadata": {}
        },
        {
          "output_type": "stream",
          "name": "stdout",
          "text": [
            "\n",
            "\n",
            "Classification Report\n",
            "              precision    recall  f1-score   support\n",
            "\n",
            "           0       0.88      0.93      0.90     32437\n",
            "           1       0.91      0.85      0.88     27713\n",
            "\n",
            "    accuracy                           0.89     60150\n",
            "   macro avg       0.90      0.89      0.89     60150\n",
            "weighted avg       0.90      0.89      0.89     60150\n",
            "\n"
          ]
        }
      ],
      "source": [
        "rnn_gru = create_model(GRU(256))\n",
        "train_model(rnn_gru, X_final, y_final)\n",
        "test_model(rnn_gru,\"RNN_GRU\", X_test, y_test)\n",
        "save_model(rnn_gru, 'word2vec/rnn_gru.h5')"
      ]
    },
    {
      "cell_type": "markdown",
      "metadata": {
        "id": "naQiLIGaPZTS"
      },
      "source": [
        "# Bidirectional RNN LSTM"
      ]
    },
    {
      "cell_type": "code",
      "execution_count": 30,
      "metadata": {
        "id": "PgraRB5cPeEC",
        "colab": {
          "base_uri": "https://localhost:8080/",
          "height": 1000
        },
        "outputId": "6d537c5e-3dea-41db-f8dc-94cc29679d92"
      },
      "outputs": [
        {
          "output_type": "stream",
          "name": "stdout",
          "text": [
            "Model: \"sequential_3\"\n",
            "_________________________________________________________________\n",
            " Layer (type)                Output Shape              Param #   \n",
            "=================================================================\n",
            " embedding_3 (Embedding)     (None, 40, 300)           12000000  \n",
            "                                                                 \n",
            " dense_6 (Dense)             (None, 40, 256)           77056     \n",
            "                                                                 \n",
            " dropout_3 (Dropout)         (None, 40, 256)           0         \n",
            "                                                                 \n",
            " bidirectional (Bidirectiona  (None, 512)              1050624   \n",
            " l)                                                              \n",
            "                                                                 \n",
            " dense_7 (Dense)             (None, 1)                 513       \n",
            "                                                                 \n",
            "=================================================================\n",
            "Total params: 13,128,193\n",
            "Trainable params: 13,128,193\n",
            "Non-trainable params: 0\n",
            "_________________________________________________________________\n",
            "Epoch 1/20\n",
            "1805/1805 [==============================] - 43s 22ms/step - loss: 0.4680 - accuracy: 0.7740 - val_loss: 0.4569 - val_accuracy: 0.7802\n",
            "Epoch 2/20\n",
            "1805/1805 [==============================] - 39s 22ms/step - loss: 0.3672 - accuracy: 0.8335 - val_loss: 0.4617 - val_accuracy: 0.7843\n",
            "Epoch 3/20\n",
            "1805/1805 [==============================] - 38s 21ms/step - loss: 0.3104 - accuracy: 0.8624 - val_loss: 0.4926 - val_accuracy: 0.7763\n",
            "Epoch 4/20\n",
            "1805/1805 [==============================] - 39s 21ms/step - loss: 0.2689 - accuracy: 0.8826 - val_loss: 0.5311 - val_accuracy: 0.7795\n",
            "1880/1880 [==============================] - 9s 4ms/step\n",
            "Model Accuracy:  0.9015461346633417\n",
            "\n",
            "\n",
            "\n"
          ]
        },
        {
          "output_type": "display_data",
          "data": {
            "text/plain": [
              "<Figure size 432x288 with 2 Axes>"
            ],
            "image/png": "[encoded data removed]"
          },
          "metadata": {}
        },
        {
          "output_type": "stream",
          "name": "stdout",
          "text": [
            "\n",
            "\n",
            "Classification Report\n",
            "              precision    recall  f1-score   support\n",
            "\n",
            "           0       0.91      0.91      0.91     32437\n",
            "           1       0.90      0.89      0.89     27713\n",
            "\n",
            "    accuracy                           0.90     60150\n",
            "   macro avg       0.90      0.90      0.90     60150\n",
            "weighted avg       0.90      0.90      0.90     60150\n",
            "\n"
          ]
        }
      ],
      "source": [
        "bi_lstm = create_model(Bidirectional(LSTM(256)))\n",
        "train_model(bi_lstm, X_final, y_final)\n",
        "test_model(bi_lstm,\"Bidirectional_LSTM_RNN\", X_test, y_test)\n",
        "save_model(bi_lstm, 'word2vec/bi_lstm_rnn.h5')\n",
        "# loaded_model = load_model('word2vec/bi_lstm_rnn.h5')"
      ]
    },
    {
      "cell_type": "markdown",
      "metadata": {
        "id": "1vkJ9OdfI2m1"
      },
      "source": [
        "# Naive Bayes"
      ]
    },
    {
      "cell_type": "code",
      "execution_count": 31,
      "metadata": {
        "id": "ZS6TJdnLSRxl",
        "colab": {
          "base_uri": "https://localhost:8080/",
          "height": 611
        },
        "outputId": "e7e2fc5e-ed68-4f4a-cd8d-1e21e66a5742"
      },
      "outputs": [
        {
          "output_type": "stream",
          "name": "stdout",
          "text": [
            "Model Accuracy:  0.5320864505403159\n",
            "\n",
            "\n",
            "\n"
          ]
        },
        {
          "output_type": "display_data",
          "data": {
            "text/plain": [
              "<Figure size 432x288 with 2 Axes>"
            ],
            "image/png": "[encoded data removed]"
          },
          "metadata": {}
        },
        {
          "output_type": "stream",
          "name": "stdout",
          "text": [
            "\n",
            "\n",
            "Classification Report\n",
            "              precision    recall  f1-score   support\n",
            "\n",
            "           0       0.55      0.79      0.64     32437\n",
            "           1       0.48      0.23      0.31     27713\n",
            "\n",
            "    accuracy                           0.53     60150\n",
            "   macro avg       0.51      0.51      0.48     60150\n",
            "weighted avg       0.52      0.53      0.49     60150\n",
            "\n"
          ]
        }
      ],
      "source": [
        "nb_model = MultinomialNB()\n",
        "nb_model.fit(X_final, y_final)\n",
        "test_model(nb_model,\"Naive_Bayes\", X_test, y_test)\n",
        "save_pi_model(nb_model, 'word2vec/nb_model.pkl')\n",
        "# lm = load_pi_model('word2vec/nb_model.pkl')"
      ]
    },
    {
      "cell_type": "markdown",
      "metadata": {
        "id": "3XhGbjy8I5Ek"
      },
      "source": [
        "# Support Vector Machine"
      ]
    },
    {
      "cell_type": "code",
      "execution_count": 32,
      "metadata": {
        "id": "uUBGFIMbSzjL"
      },
      "outputs": [],
      "source": [
        "# classifier_linear = svm.LinearSVC()\n",
        "# classifier_linear.fit(X_train, y_train)\n",
        "# test_model(classifier_linear,\"SVM\", X_test, y_test)\n",
        "# save_pi_model(classifier_linear, 'word2vec/svm.pkl')\n",
        "# lm = load_pi_model('word2vec/svm.pkl')"
      ]
    },
    {
      "cell_type": "markdown",
      "metadata": {
        "id": "rSdkH25TZ6lZ"
      },
      "source": [
        "# Accuracy Comparision"
      ]
    },
    {
      "cell_type": "code",
      "execution_count": 33,
      "metadata": {
        "id": "CzQ0XzV0Z59R",
        "colab": {
          "base_uri": "https://localhost:8080/",
          "height": 469
        },
        "outputId": "db5f952b-f29a-43b5-d393-515fe930ac3b"
      },
      "outputs": [
        {
          "output_type": "execute_result",
          "data": {
            "text/plain": [
              "<matplotlib.axes._subplots.AxesSubplot at 0x7f3b879f7460>"
            ]
          },
          "metadata": {},
          "execution_count": 33
        },
        {
          "output_type": "display_data",
          "data": {
            "text/plain": [
              "<Figure size 1000x500 with 1 Axes>"
            ],
            "image/png": "[encoded data removed]"
          },
          "metadata": {}
        }
      ],
      "source": [
        "plt.figure(figsize=[10,5],dpi = 100)\n",
        "plt.title('Accuracy Comparison')\n",
        "plt.xlabel('Accuracy')\n",
        "plt.ylabel('Algorithm')\n",
        "sns.barplot(x = acc,y = models,palette='dark')"
      ]
    },
    {
      "cell_type": "code",
      "execution_count": 34,
      "metadata": {
        "id": "SZy4aDO7lLvQ",
        "colab": {
          "base_uri": "https://localhost:8080/",
          "height": 291
        },
        "outputId": "7f997fdc-4d30-46b5-a4d0-c813a3d062b5"
      },
      "outputs": [
        {
          "output_type": "display_data",
          "data": {
            "text/plain": [
              "<Figure size 432x288 with 1 Axes>"
            ],
            "image/png": "[encoded data removed]"
          },
          "metadata": {}
        }
      ],
      "source": [
        "x = np.array(models)\n",
        "y = np.array(acc)\n",
        "\n",
        "plt.barh(x,y)\n",
        "plt.show()"
      ]
    },
    {
      "cell_type": "code",
      "execution_count": 35,
      "metadata": {
        "id": "60pkNDuikKfn",
        "colab": {
          "base_uri": "https://localhost:8080/"
        },
        "outputId": "2272581e-77c8-4928-e1a1-55fa2109aa1a"
      },
      "outputs": [
        {
          "output_type": "stream",
          "name": "stdout",
          "text": [
            "Model \t\t\t Accuracy\n",
            "RNN_LSTM \t\t 0.8999168744804655\n",
            "Simple_RNN \t\t 0.8507065669160432\n",
            "RNN_GRU \t\t 0.8942310889443059\n",
            "Bidirectional_LSTM_RNN \t\t 0.9015461346633417\n",
            "Naive_Bayes \t\t 0.5320864505403159\n"
          ]
        }
      ],
      "source": [
        "print(\"Model \\t\\t\\t Accuracy\")\n",
        "for i in range(len(acc)):\n",
        "  print(models[i],\"\\t\\t\", acc[i])"
      ]
    }
  ],
  "metadata": {
    "accelerator": "GPU",
    "colab": {
      "collapsed_sections": [
        "4TClOvfyWvgX"
      ],
      "provenance": [],
      "include_colab_link": true
    },
    "gpuClass": "standard",
    "kernelspec": {
      "display_name": "Python 3",
      "language": "python",
      "name": "python3"
    },
    "language_info": {
      "codemirror_mode": {
        "name": "ipython",
        "version": 3
      },
      "file_extension": ".py",
      "mimetype": "text/x-python",
      "name": "python",
      "nbconvert_exporter": "python",
      "pygments_lexer": "ipython3",
      "version": "3.7.4"
    }
  },
  "nbformat": 4,
  "nbformat_minor": 0
}